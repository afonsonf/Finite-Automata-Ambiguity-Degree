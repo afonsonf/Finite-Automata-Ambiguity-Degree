{
 "cells": [
  {
   "cell_type": "code",
   "execution_count": 1,
   "metadata": {},
   "outputs": [],
   "source": [
    ">>> from FAdo.fa import *\n",
    ">>> from FAdo.reex import *\n",
    ">>> from FAdo.fio import *"
   ]
  },
  {
   "cell_type": "code",
   "execution_count": 2,
   "metadata": {},
   "outputs": [],
   "source": [
    ">>> m3= DFA()\n",
    ">>> m3.setSigma(['0','1'])\n",
    ">>> m3.addState('s1')\n",
    ">>> m3.addState('s2')\n",
    ">>> m3.addState('s3')\n",
    ">>> m3.setInitial(0)\n",
    ">>> m3.addFinal(0)\n",
    ">>> m3.addTransition(0, '0', 0)\n",
    ">>> m3.addTransition(0, '1', 1)\n",
    ">>> m3.addTransition(1, '0', 2)\n",
    ">>> m3.addTransition(1, '1', 0)\n",
    ">>> m3.addTransition(2, '0', 1)\n",
    ">>> m3.addTransition(2, '1', 2)"
   ]
  },
  {
   "cell_type": "code",
   "execution_count": 3,
   "metadata": {},
   "outputs": [
    {
     "data": {
      "text/plain": [
       "DFA((['s1', 's2', 's3'], ['1', '0'], 's1', ['s1'], \"[('s1', '1', 's2'), ('s1', '0', 's1'), ('s2', '1', 's1'), ('s2', '0', 's3'), ('s3', '1', 's3'), ('s3', '0', 's2')]\"))"
      ]
     },
     "execution_count": 3,
     "metadata": {},
     "output_type": "execute_result"
    }
   ],
   "source": [
    ">>> m3"
   ]
  },
  {
   "cell_type": "code",
   "execution_count": 4,
   "metadata": {},
   "outputs": [
    {
     "data": {
      "text/plain": [
       "True"
      ]
     },
     "execution_count": 4,
     "metadata": {},
     "output_type": "execute_result"
    }
   ],
   "source": [
    ">>> m3.evalWordP(\"011\")"
   ]
  },
  {
   "cell_type": "code",
   "execution_count": 5,
   "metadata": {},
   "outputs": [
    {
     "data": {
      "text/plain": [
       "False"
      ]
     },
     "execution_count": 5,
     "metadata": {},
     "output_type": "execute_result"
    }
   ],
   "source": [
    ">>> m3.evalWordP(\"1011\")"
   ]
  },
  {
   "cell_type": "code",
   "execution_count": 6,
   "metadata": {},
   "outputs": [
    {
     "data": {
      "image/svg+xml": [
       "<svg height=\"87pt\" viewBox=\"0.00 0.00 255.69 86.70\" width=\"256pt\" xmlns=\"http://www.w3.org/2000/svg\" xmlns:xlink=\"http://www.w3.org/1999/xlink\">\n",
       "<g class=\"graph\" id=\"graph0\" transform=\"scale(1 1) rotate(0) translate(4 82.6967)\">\n",
       "<title>finite_state_machine</title>\n",
       "<polygon fill=\"#ffffff\" points=\"-4,4 -4,-82.6967 251.69,-82.6967 251.69,4 -4,4\" stroke=\"transparent\"/>\n",
       "<!-- dummy -->\n",
       "<g class=\"node\" id=\"node1\">\n",
       "<title>dummy</title>\n",
       "<ellipse cx=\"1.8\" cy=\"-22.8483\" fill=\"#000000\" rx=\"1.8\" ry=\"1.8\" stroke=\"#000000\"/>\n",
       "</g>\n",
       "<!-- s1 -->\n",
       "<g class=\"node\" id=\"node2\">\n",
       "<title>s1</title>\n",
       "<ellipse cx=\"63.4483\" cy=\"-22.8483\" fill=\"none\" rx=\"18.724\" ry=\"18.724\" stroke=\"#000000\"/>\n",
       "<ellipse cx=\"63.4483\" cy=\"-22.8483\" fill=\"none\" rx=\"22.6977\" ry=\"22.6977\" stroke=\"#000000\"/>\n",
       "<text fill=\"#000000\" font-family=\"Times,serif\" font-size=\"14.00\" text-anchor=\"middle\" x=\"63.4483\" y=\"-19.1483\">s1</text>\n",
       "</g>\n",
       "<!-- dummy&#45;&gt;s1 -->\n",
       "<g class=\"edge\" id=\"edge1\">\n",
       "<title>dummy-&gt;s1</title>\n",
       "<path d=\"M3.8512,-22.8483C8.234,-22.8483 19.0303,-22.8483 30.2488,-22.8483\" fill=\"none\" stroke=\"#000000\"/>\n",
       "<polygon fill=\"#000000\" points=\"30.4983,-26.3484 40.4982,-22.8483 30.4982,-19.3484 30.4983,-26.3484\" stroke=\"#000000\"/>\n",
       "</g>\n",
       "<!-- s1&#45;&gt;s1 -->\n",
       "<g class=\"edge\" id=\"edge4\">\n",
       "<title>s1-&gt;s1</title>\n",
       "<path d=\"M56.0966,-44.7016C55.2946,-54.8392 57.7452,-63.6967 63.4483,-63.6967 67.1019,-63.6967 69.4206,-60.0616 70.4045,-54.7835\" fill=\"none\" stroke=\"#000000\"/>\n",
       "<polygon fill=\"#000000\" points=\"73.9052,-54.8311 70.8,-44.7016 66.9106,-54.5566 73.9052,-54.8311\" stroke=\"#000000\"/>\n",
       "<text fill=\"#000000\" font-family=\"Times,serif\" font-size=\"14.00\" text-anchor=\"middle\" x=\"63.4483\" y=\"-67.4967\">0</text>\n",
       "</g>\n",
       "<!-- s2 -->\n",
       "<g class=\"node\" id=\"node3\">\n",
       "<title>s2</title>\n",
       "<ellipse cx=\"148.145\" cy=\"-22.8483\" fill=\"none\" rx=\"18.6979\" ry=\"18.6979\" stroke=\"#000000\"/>\n",
       "<text fill=\"#000000\" font-family=\"Times,serif\" font-size=\"14.00\" text-anchor=\"middle\" x=\"148.145\" y=\"-19.1483\">s2</text>\n",
       "</g>\n",
       "<!-- s1&#45;&gt;s2 -->\n",
       "<g class=\"edge\" id=\"edge2\">\n",
       "<title>s1-&gt;s2</title>\n",
       "<path d=\"M86.5921,-22.8483C96.5837,-22.8483 108.385,-22.8483 118.9676,-22.8483\" fill=\"none\" stroke=\"#000000\"/>\n",
       "<polygon fill=\"#000000\" points=\"119.0318,-26.3484 129.0318,-22.8483 119.0318,-19.3484 119.0318,-26.3484\" stroke=\"#000000\"/>\n",
       "<text fill=\"#000000\" font-family=\"Times,serif\" font-size=\"14.00\" text-anchor=\"middle\" x=\"107.7967\" y=\"-26.6483\">1</text>\n",
       "</g>\n",
       "<!-- s2&#45;&gt;s1 -->\n",
       "<g class=\"edge\" id=\"edge7\">\n",
       "<title>s2-&gt;s1</title>\n",
       "<path d=\"M132.2934,-12.5745C126.0165,-9.0801 118.5711,-5.6134 111.2967,-3.8483 104.7985,-2.2716 98.012,-3.2391 91.6606,-5.3984\" fill=\"none\" stroke=\"#000000\"/>\n",
       "<polygon fill=\"#000000\" points=\"89.8909,-2.3529 82.142,-9.5783 92.7054,-8.7622 89.8909,-2.3529\" stroke=\"#000000\"/>\n",
       "<text fill=\"#000000\" font-family=\"Times,serif\" font-size=\"14.00\" text-anchor=\"middle\" x=\"107.7967\" y=\"-7.6483\">1</text>\n",
       "</g>\n",
       "<!-- s3 -->\n",
       "<g class=\"node\" id=\"node4\">\n",
       "<title>s3</title>\n",
       "<ellipse cx=\"228.8416\" cy=\"-22.8483\" fill=\"none\" rx=\"18.6979\" ry=\"18.6979\" stroke=\"#000000\"/>\n",
       "<text fill=\"#000000\" font-family=\"Times,serif\" font-size=\"14.00\" text-anchor=\"middle\" x=\"228.8416\" y=\"-19.1483\">s3</text>\n",
       "</g>\n",
       "<!-- s2&#45;&gt;s3 -->\n",
       "<g class=\"edge\" id=\"edge3\">\n",
       "<title>s2-&gt;s3</title>\n",
       "<path d=\"M167.269,-22.8483C176.9167,-22.8483 188.8278,-22.8483 199.5951,-22.8483\" fill=\"none\" stroke=\"#000000\"/>\n",
       "<polygon fill=\"#000000\" points=\"199.855,-26.3484 209.8549,-22.8483 199.8549,-19.3484 199.855,-26.3484\" stroke=\"#000000\"/>\n",
       "<text fill=\"#000000\" font-family=\"Times,serif\" font-size=\"14.00\" text-anchor=\"middle\" x=\"188.4933\" y=\"-26.6483\">0</text>\n",
       "</g>\n",
       "<!-- s3&#45;&gt;s2 -->\n",
       "<g class=\"edge\" id=\"edge5\">\n",
       "<title>s3-&gt;s2</title>\n",
       "<path d=\"M213.8643,-10.9683C205.591,-5.8045 194.9909,-1.4226 184.9933,-3.8483 181.0151,-4.8136 176.9857,-6.2878 173.1244,-7.9971\" fill=\"none\" stroke=\"#000000\"/>\n",
       "<polygon fill=\"#000000\" points=\"171.3666,-4.9631 163.9966,-12.5745 174.5046,-11.2203 171.3666,-4.9631\" stroke=\"#000000\"/>\n",
       "<text fill=\"#000000\" font-family=\"Times,serif\" font-size=\"14.00\" text-anchor=\"middle\" x=\"188.4933\" y=\"-7.6483\">0</text>\n",
       "</g>\n",
       "<!-- s3&#45;&gt;s3 -->\n",
       "<g class=\"edge\" id=\"edge6\">\n",
       "<title>s3-&gt;s3</title>\n",
       "<path d=\"M221.7005,-40.6685C220.3675,-50.5745 222.7479,-59.6967 228.8416,-59.6967 232.6502,-59.6967 235.0083,-56.1333 235.9158,-51.0424\" fill=\"none\" stroke=\"#000000\"/>\n",
       "<polygon fill=\"#000000\" points=\"239.418,-50.6909 235.9828,-40.6685 232.4182,-50.6457 239.418,-50.6909\" stroke=\"#000000\"/>\n",
       "<text fill=\"#000000\" font-family=\"Times,serif\" font-size=\"14.00\" text-anchor=\"middle\" x=\"228.8416\" y=\"-63.4967\">1</text>\n",
       "</g>\n",
       "</g>\n",
       "</svg>"
      ],
      "text/plain": [
       "<IPython.core.display.SVG object>"
      ]
     },
     "metadata": {},
     "output_type": "display_data"
    }
   ],
   "source": [
    ">>> m3.display()"
   ]
  },
  {
   "cell_type": "code",
   "execution_count": 7,
   "metadata": {},
   "outputs": [],
   "source": [
    ">>> m3 = readFromFile(\"mul3.fa\")[0]"
   ]
  },
  {
   "cell_type": "code",
   "execution_count": 8,
   "metadata": {},
   "outputs": [
    {
     "data": {
      "text/plain": [
       "3"
      ]
     },
     "execution_count": 8,
     "metadata": {},
     "output_type": "execute_result"
    }
   ],
   "source": [
    ">>> len(m3.States)"
   ]
  },
  {
   "cell_type": "code",
   "execution_count": 9,
   "metadata": {},
   "outputs": [
    {
     "data": {
      "text/plain": [
       "6"
      ]
     },
     "execution_count": 9,
     "metadata": {},
     "output_type": "execute_result"
    }
   ],
   "source": [
    ">>> m3.countTransitions()"
   ]
  },
  {
   "cell_type": "code",
   "execution_count": 10,
   "metadata": {},
   "outputs": [],
   "source": [
    ">>> min=m3.minimalHopcroft()"
   ]
  },
  {
   "cell_type": "code",
   "execution_count": 11,
   "metadata": {},
   "outputs": [],
   "source": [
    ">>> u = m3 | ~m3"
   ]
  },
  {
   "cell_type": "code",
   "execution_count": 12,
   "metadata": {},
   "outputs": [
    {
     "data": {
      "image/svg+xml": [
       "<svg height=\"85pt\" viewBox=\"0.00 0.00 266.60 85.00\" width=\"267pt\" xmlns=\"http://www.w3.org/2000/svg\" xmlns:xlink=\"http://www.w3.org/1999/xlink\">\n",
       "<g class=\"graph\" id=\"graph0\" transform=\"scale(1 1) rotate(0) translate(4 81)\">\n",
       "<title>finite_state_machine</title>\n",
       "<polygon fill=\"#ffffff\" points=\"-4,4 -4,-81 262.6,-81 262.6,4 -4,4\" stroke=\"transparent\"/>\n",
       "<!-- dummy -->\n",
       "<g class=\"node\" id=\"node1\">\n",
       "<title>dummy</title>\n",
       "<ellipse cx=\"1.8\" cy=\"-22\" fill=\"#000000\" rx=\"1.8\" ry=\"1.8\" stroke=\"#000000\"/>\n",
       "</g>\n",
       "<!-- 1 -->\n",
       "<g class=\"node\" id=\"node2\">\n",
       "<title>1</title>\n",
       "<ellipse cx=\"62.6\" cy=\"-22\" fill=\"none\" rx=\"18\" ry=\"18\" stroke=\"#000000\"/>\n",
       "<ellipse cx=\"62.6\" cy=\"-22\" fill=\"none\" rx=\"22\" ry=\"22\" stroke=\"#000000\"/>\n",
       "<text fill=\"#000000\" font-family=\"Times,serif\" font-size=\"14.00\" text-anchor=\"middle\" x=\"62.6\" y=\"-18.3\">1</text>\n",
       "</g>\n",
       "<!-- dummy&#45;&gt;1 -->\n",
       "<g class=\"edge\" id=\"edge1\">\n",
       "<title>dummy-&gt;1</title>\n",
       "<path d=\"M3.8229,-22C8.2086,-22 19.1055,-22 30.3421,-22\" fill=\"none\" stroke=\"#000000\"/>\n",
       "<polygon fill=\"#000000\" points=\"30.58,-25.5001 40.58,-22 30.5799,-18.5001 30.58,-25.5001\" stroke=\"#000000\"/>\n",
       "</g>\n",
       "<!-- 1&#45;&gt;1 -->\n",
       "<g class=\"edge\" id=\"edge3\">\n",
       "<title>1-&gt;1</title>\n",
       "<path d=\"M55.2831,-42.9908C54.3798,-53.0872 56.8188,-62 62.6,-62 66.3036,-62 68.6356,-58.3422 69.5958,-53.0587\" fill=\"none\" stroke=\"#000000\"/>\n",
       "<polygon fill=\"#000000\" points=\"73.0963,-53.0973 69.9169,-42.9908 66.0998,-52.8741 73.0963,-53.0973\" stroke=\"#000000\"/>\n",
       "<text fill=\"#000000\" font-family=\"Times,serif\" font-size=\"14.00\" text-anchor=\"middle\" x=\"62.6\" y=\"-65.8\">0</text>\n",
       "</g>\n",
       "<!-- 0 -->\n",
       "<g class=\"node\" id=\"node3\">\n",
       "<title>0</title>\n",
       "<ellipse cx=\"149.6\" cy=\"-22\" fill=\"none\" rx=\"18\" ry=\"18\" stroke=\"#000000\"/>\n",
       "<ellipse cx=\"149.6\" cy=\"-22\" fill=\"none\" rx=\"22\" ry=\"22\" stroke=\"#000000\"/>\n",
       "<text fill=\"#000000\" font-family=\"Times,serif\" font-size=\"14.00\" text-anchor=\"middle\" x=\"149.6\" y=\"-18.3\">0</text>\n",
       "</g>\n",
       "<!-- 1&#45;&gt;0 -->\n",
       "<g class=\"edge\" id=\"edge6\">\n",
       "<title>1-&gt;0</title>\n",
       "<path d=\"M85.0047,-22C94.8223,-22 106.5314,-22 117.2672,-22\" fill=\"none\" stroke=\"#000000\"/>\n",
       "<polygon fill=\"#000000\" points=\"117.5725,-25.5001 127.5724,-22 117.5724,-18.5001 117.5725,-25.5001\" stroke=\"#000000\"/>\n",
       "<text fill=\"#000000\" font-family=\"Times,serif\" font-size=\"14.00\" text-anchor=\"middle\" x=\"106.1\" y=\"-25.8\">1</text>\n",
       "</g>\n",
       "<!-- 0&#45;&gt;1 -->\n",
       "<g class=\"edge\" id=\"edge2\">\n",
       "<title>0-&gt;1</title>\n",
       "<path d=\"M131.2495,-9.5999C122.7246,-5.2505 112.3391,-1.9096 102.6,-4 98.8819,-4.798 95.0922,-5.9697 91.4005,-7.3388\" fill=\"none\" stroke=\"#000000\"/>\n",
       "<polygon fill=\"#000000\" points=\"89.8346,-4.2003 81.9732,-11.3031 92.5481,-10.653 89.8346,-4.2003\" stroke=\"#000000\"/>\n",
       "<text fill=\"#000000\" font-family=\"Times,serif\" font-size=\"14.00\" text-anchor=\"middle\" x=\"106.1\" y=\"-7.8\">1</text>\n",
       "</g>\n",
       "<!-- 2 -->\n",
       "<g class=\"node\" id=\"node4\">\n",
       "<title>2</title>\n",
       "<ellipse cx=\"236.6\" cy=\"-22\" fill=\"none\" rx=\"18\" ry=\"18\" stroke=\"#000000\"/>\n",
       "<ellipse cx=\"236.6\" cy=\"-22\" fill=\"none\" rx=\"22\" ry=\"22\" stroke=\"#000000\"/>\n",
       "<text fill=\"#000000\" font-family=\"Times,serif\" font-size=\"14.00\" text-anchor=\"middle\" x=\"236.6\" y=\"-18.3\">2</text>\n",
       "</g>\n",
       "<!-- 0&#45;&gt;2 -->\n",
       "<g class=\"edge\" id=\"edge7\">\n",
       "<title>0-&gt;2</title>\n",
       "<path d=\"M172.0047,-22C181.8223,-22 193.5314,-22 204.2672,-22\" fill=\"none\" stroke=\"#000000\"/>\n",
       "<polygon fill=\"#000000\" points=\"204.5725,-25.5001 214.5724,-22 204.5724,-18.5001 204.5725,-25.5001\" stroke=\"#000000\"/>\n",
       "<text fill=\"#000000\" font-family=\"Times,serif\" font-size=\"14.00\" text-anchor=\"middle\" x=\"193.1\" y=\"-25.8\">0</text>\n",
       "</g>\n",
       "<!-- 2&#45;&gt;0 -->\n",
       "<g class=\"edge\" id=\"edge4\">\n",
       "<title>2-&gt;0</title>\n",
       "<path d=\"M218.2495,-9.5999C209.7246,-5.2505 199.3391,-1.9096 189.6,-4 185.8819,-4.798 182.0922,-5.9697 178.4005,-7.3388\" fill=\"none\" stroke=\"#000000\"/>\n",
       "<polygon fill=\"#000000\" points=\"176.8346,-4.2003 168.9732,-11.3031 179.5481,-10.653 176.8346,-4.2003\" stroke=\"#000000\"/>\n",
       "<text fill=\"#000000\" font-family=\"Times,serif\" font-size=\"14.00\" text-anchor=\"middle\" x=\"193.1\" y=\"-7.8\">0</text>\n",
       "</g>\n",
       "<!-- 2&#45;&gt;2 -->\n",
       "<g class=\"edge\" id=\"edge5\">\n",
       "<title>2-&gt;2</title>\n",
       "<path d=\"M228.9173,-42.9908C227.9688,-53.0872 230.5297,-62 236.6,-62 240.4888,-62 242.9373,-58.3422 243.9456,-53.0587\" fill=\"none\" stroke=\"#000000\"/>\n",
       "<polygon fill=\"#000000\" points=\"247.446,-53.1023 244.2827,-42.9908 240.4499,-52.868 247.446,-53.1023\" stroke=\"#000000\"/>\n",
       "<text fill=\"#000000\" font-family=\"Times,serif\" font-size=\"14.00\" text-anchor=\"middle\" x=\"236.6\" y=\"-65.8\">1</text>\n",
       "</g>\n",
       "</g>\n",
       "</svg>"
      ],
      "text/plain": [
       "<IPython.core.display.SVG object>"
      ]
     },
     "metadata": {},
     "output_type": "display_data"
    }
   ],
   "source": [
    "u.renameStates(range(len(u)))\n",
    "u.display()"
   ]
  },
  {
   "cell_type": "code",
   "execution_count": 13,
   "metadata": {},
   "outputs": [],
   "source": [
    ">>> m = u.minimal()"
   ]
  },
  {
   "cell_type": "code",
   "execution_count": 14,
   "metadata": {},
   "outputs": [
    {
     "data": {
      "image/svg+xml": [
       "<svg height=\"85pt\" viewBox=\"0.00 0.00 92.60 85.00\" width=\"93pt\" xmlns=\"http://www.w3.org/2000/svg\" xmlns:xlink=\"http://www.w3.org/1999/xlink\">\n",
       "<g class=\"graph\" id=\"graph0\" transform=\"scale(1 1) rotate(0) translate(4 81)\">\n",
       "<title>finite_state_machine</title>\n",
       "<polygon fill=\"#ffffff\" points=\"-4,4 -4,-81 88.6,-81 88.6,4 -4,4\" stroke=\"transparent\"/>\n",
       "<!-- dummy -->\n",
       "<g class=\"node\" id=\"node1\">\n",
       "<title>dummy</title>\n",
       "<ellipse cx=\"1.8\" cy=\"-22\" fill=\"#000000\" rx=\"1.8\" ry=\"1.8\" stroke=\"#000000\"/>\n",
       "</g>\n",
       "<!-- 0 -->\n",
       "<g class=\"node\" id=\"node2\">\n",
       "<title>0</title>\n",
       "<ellipse cx=\"62.6\" cy=\"-22\" fill=\"none\" rx=\"18\" ry=\"18\" stroke=\"#000000\"/>\n",
       "<ellipse cx=\"62.6\" cy=\"-22\" fill=\"none\" rx=\"22\" ry=\"22\" stroke=\"#000000\"/>\n",
       "<text fill=\"#000000\" font-family=\"Times,serif\" font-size=\"14.00\" text-anchor=\"middle\" x=\"62.6\" y=\"-18.3\">0</text>\n",
       "</g>\n",
       "<!-- dummy&#45;&gt;0 -->\n",
       "<g class=\"edge\" id=\"edge1\">\n",
       "<title>dummy-&gt;0</title>\n",
       "<path d=\"M3.8229,-22C8.2086,-22 19.1055,-22 30.3421,-22\" fill=\"none\" stroke=\"#000000\"/>\n",
       "<polygon fill=\"#000000\" points=\"30.58,-25.5001 40.58,-22 30.5799,-18.5001 30.58,-25.5001\" stroke=\"#000000\"/>\n",
       "</g>\n",
       "<!-- 0&#45;&gt;0 -->\n",
       "<g class=\"edge\" id=\"edge2\">\n",
       "<title>0-&gt;0</title>\n",
       "<path d=\"M55.2831,-42.9908C54.3798,-53.0872 56.8188,-62 62.6,-62 66.3036,-62 68.6356,-58.3422 69.5958,-53.0587\" fill=\"none\" stroke=\"#000000\"/>\n",
       "<polygon fill=\"#000000\" points=\"73.0963,-53.0973 69.9169,-42.9908 66.0998,-52.8741 73.0963,-53.0973\" stroke=\"#000000\"/>\n",
       "<text fill=\"#000000\" font-family=\"Times,serif\" font-size=\"14.00\" text-anchor=\"middle\" x=\"62.6\" y=\"-65.8\">1, 0</text>\n",
       "</g>\n",
       "</g>\n",
       "</svg>"
      ],
      "text/plain": [
       "<IPython.core.display.SVG object>"
      ]
     },
     "metadata": {},
     "output_type": "display_data"
    }
   ],
   "source": [
    "m.display()"
   ]
  },
  {
   "cell_type": "code",
   "execution_count": 15,
   "metadata": {},
   "outputs": [
    {
     "data": {
      "text/plain": [
       "DFA((['0'], ['1', '0'], '0', ['0'], \"[(0, '1', 0), (0, '0', 0)]\"))"
      ]
     },
     "execution_count": 15,
     "metadata": {},
     "output_type": "execute_result"
    }
   ],
   "source": [
    ">>> m.renameStates(range(len(m)))"
   ]
  },
  {
   "cell_type": "code",
   "execution_count": 21,
   "metadata": {},
   "outputs": [
    {
     "data": {
      "text/plain": [
       "'@epsilon'"
      ]
     },
     "execution_count": 21,
     "metadata": {},
     "output_type": "execute_result"
    }
   ],
   "source": [
    ">>> u.witness()"
   ]
  },
  {
   "cell_type": "code",
   "execution_count": 35,
   "metadata": {},
   "outputs": [],
   "source": [
    ">>> r = star(disj(regexp(\"a\"),concat(regexp(\"b\"),regexp(\"a\"))))"
   ]
  },
  {
   "cell_type": "code",
   "execution_count": 36,
   "metadata": {},
   "outputs": [
    {
     "ename": "AttributeError",
     "evalue": "'regexp' object has no attribute '_strP'",
     "output_type": "error",
     "traceback": [
      "\u001b[0;31m---------------------------------------------------------------------------\u001b[0m",
      "\u001b[0;31mAttributeError\u001b[0m                            Traceback (most recent call last)",
      "\u001b[0;32m<ipython-input-36-c7ffdd12621c>\u001b[0m in \u001b[0;36m<module>\u001b[0;34m()\u001b[0m\n\u001b[0;32m----> 1\u001b[0;31m \u001b[0;32mprint\u001b[0m \u001b[0mr\u001b[0m\u001b[0;34m\u001b[0m\u001b[0m\n\u001b[0m",
      "\u001b[0;32m/usr/local/lib/python2.7/dist-packages/FAdo/reex.pyc\u001b[0m in \u001b[0;36m__str__\u001b[0;34m(self)\u001b[0m\n\u001b[1;32m   2524\u001b[0m \u001b[0;34m\u001b[0m\u001b[0m\n\u001b[1;32m   2525\u001b[0m     \u001b[0;32mdef\u001b[0m \u001b[0m__str__\u001b[0m\u001b[0;34m(\u001b[0m\u001b[0mself\u001b[0m\u001b[0;34m)\u001b[0m\u001b[0;34m:\u001b[0m\u001b[0;34m\u001b[0m\u001b[0m\n\u001b[0;32m-> 2526\u001b[0;31m         \u001b[0;32mreturn\u001b[0m \u001b[0;34m\"%s*\"\u001b[0m \u001b[0;34m%\u001b[0m \u001b[0mself\u001b[0m\u001b[0;34m.\u001b[0m\u001b[0marg\u001b[0m\u001b[0;34m.\u001b[0m\u001b[0m_strP\u001b[0m\u001b[0;34m(\u001b[0m\u001b[0;34m)\u001b[0m\u001b[0;34m\u001b[0m\u001b[0m\n\u001b[0m\u001b[1;32m   2527\u001b[0m \u001b[0;34m\u001b[0m\u001b[0m\n\u001b[1;32m   2528\u001b[0m     \u001b[0m_strP\u001b[0m \u001b[0;34m=\u001b[0m \u001b[0m__str__\u001b[0m\u001b[0;34m\u001b[0m\u001b[0m\n",
      "\u001b[0;32m/usr/local/lib/python2.7/dist-packages/FAdo/reex.pyc\u001b[0m in \u001b[0;36m_strP\u001b[0;34m(self)\u001b[0m\n\u001b[1;32m   1994\u001b[0m \u001b[0;34m\u001b[0m\u001b[0m\n\u001b[1;32m   1995\u001b[0m     \u001b[0;32mdef\u001b[0m \u001b[0m_strP\u001b[0m\u001b[0;34m(\u001b[0m\u001b[0mself\u001b[0m\u001b[0;34m)\u001b[0m\u001b[0;34m:\u001b[0m\u001b[0;34m\u001b[0m\u001b[0m\n\u001b[0;32m-> 1996\u001b[0;31m         \u001b[0;32mreturn\u001b[0m \u001b[0;34m\"(%s + %s)\"\u001b[0m \u001b[0;34m%\u001b[0m \u001b[0;34m(\u001b[0m\u001b[0mself\u001b[0m\u001b[0;34m.\u001b[0m\u001b[0marg1\u001b[0m\u001b[0;34m.\u001b[0m\u001b[0m_strP\u001b[0m\u001b[0;34m(\u001b[0m\u001b[0;34m)\u001b[0m\u001b[0;34m,\u001b[0m \u001b[0mself\u001b[0m\u001b[0;34m.\u001b[0m\u001b[0marg2\u001b[0m\u001b[0;34m.\u001b[0m\u001b[0m_strP\u001b[0m\u001b[0;34m(\u001b[0m\u001b[0;34m)\u001b[0m\u001b[0;34m)\u001b[0m\u001b[0;34m\u001b[0m\u001b[0m\n\u001b[0m\u001b[1;32m   1997\u001b[0m \u001b[0;34m\u001b[0m\u001b[0m\n\u001b[1;32m   1998\u001b[0m     \u001b[0;32mdef\u001b[0m \u001b[0mmark\u001b[0m\u001b[0;34m(\u001b[0m\u001b[0mself\u001b[0m\u001b[0;34m)\u001b[0m\u001b[0;34m:\u001b[0m\u001b[0;34m\u001b[0m\u001b[0m\n",
      "\u001b[0;31mAttributeError\u001b[0m: 'regexp' object has no attribute '_strP'"
     ]
    }
   ],
   "source": [
    ">>> print r"
   ]
  },
  {
   "cell_type": "code",
   "execution_count": 27,
   "metadata": {},
   "outputs": [],
   "source": [
    ">>> r = str2regexp(\"(a+ba)*\")"
   ]
  },
  {
   "cell_type": "code",
   "execution_count": 26,
   "metadata": {},
   "outputs": [
    {
     "name": "stdout",
     "output_type": "stream",
     "text": [
      "(a + (b a))*\n"
     ]
    }
   ],
   "source": [
    "print r"
   ]
  },
  {
   "cell_type": "code",
   "execution_count": 28,
   "metadata": {},
   "outputs": [
    {
     "data": {
      "text/plain": [
       "True"
      ]
     },
     "execution_count": 28,
     "metadata": {},
     "output_type": "execute_result"
    }
   ],
   "source": [
    ">>> r.compare(str2regexp(\"(a*(ba)*a*)*\"))"
   ]
  },
  {
   "cell_type": "code",
   "execution_count": 29,
   "metadata": {},
   "outputs": [
    {
     "name": "stdout",
     "output_type": "stream",
     "text": [
      "((0 + ((@epsilon + 0) (0* (@epsilon + 0)))) + ((1 + ((@epsilon + 0) (0* 1))) ((1 (0* 1))* (1 + (1 (0* (@epsilon + 0))))))) + (((1 + ((@epsilon + 0) (0* 1))) ((1 (0* 1))* 0)) ((1 + (0 ((1 (0* 1))* 0)))* (0 ((1 (0* 1))* (1 + (1 (0* (@epsilon + 0))))))))\n"
     ]
    }
   ],
   "source": [
    ">>> print m3.regexp()"
   ]
  },
  {
   "cell_type": "code",
   "execution_count": 30,
   "metadata": {},
   "outputs": [
    {
     "name": "stdout",
     "output_type": "stream",
     "text": [
      "((0 + (1 1)) + (((1 0) (1 + (0 0))*) (0 1)))*\n"
     ]
    }
   ],
   "source": [
    ">>> print m3.reCG()"
   ]
  },
  {
   "cell_type": "code",
   "execution_count": 31,
   "metadata": {},
   "outputs": [
    {
     "data": {
      "image/svg+xml": [
       "<svg height=\"164pt\" viewBox=\"0.00 0.00 674.60 164.00\" width=\"675pt\" xmlns=\"http://www.w3.org/2000/svg\" xmlns:xlink=\"http://www.w3.org/1999/xlink\">\n",
       "<g class=\"graph\" id=\"graph0\" transform=\"scale(1 1) rotate(0) translate(4 160)\">\n",
       "<title>finite_state_machine</title>\n",
       "<polygon fill=\"#ffffff\" points=\"-4,4 -4,-160 670.6,-160 670.6,4 -4,4\" stroke=\"transparent\"/>\n",
       "<!-- dummy8 -->\n",
       "<g class=\"node\" id=\"node1\">\n",
       "<title>dummy8</title>\n",
       "<ellipse cx=\"1.8\" cy=\"-38\" fill=\"#000000\" rx=\"1.8\" ry=\"1.8\" stroke=\"#000000\"/>\n",
       "</g>\n",
       "<!-- 8 -->\n",
       "<g class=\"node\" id=\"node2\">\n",
       "<title>8</title>\n",
       "<ellipse cx=\"58.6\" cy=\"-38\" fill=\"none\" rx=\"18\" ry=\"18\" stroke=\"#000000\"/>\n",
       "<text fill=\"#000000\" font-family=\"Times,serif\" font-size=\"14.00\" text-anchor=\"middle\" x=\"58.6\" y=\"-34.3\">8</text>\n",
       "</g>\n",
       "<!-- dummy8&#45;&gt;8 -->\n",
       "<g class=\"edge\" id=\"edge1\">\n",
       "<title>dummy8-&gt;8</title>\n",
       "<path d=\"M3.6898,-38C8.0522,-38 19.3107,-38 30.5058,-38\" fill=\"none\" stroke=\"#000000\"/>\n",
       "<polygon fill=\"#000000\" points=\"30.5696,-41.5001 40.5696,-38 30.5696,-34.5001 30.5696,-41.5001\" stroke=\"#000000\"/>\n",
       "</g>\n",
       "<!-- 0 -->\n",
       "<g class=\"node\" id=\"node3\">\n",
       "<title>0</title>\n",
       "<ellipse cx=\"137.6\" cy=\"-84\" fill=\"none\" rx=\"18\" ry=\"18\" stroke=\"#000000\"/>\n",
       "<text fill=\"#000000\" font-family=\"Times,serif\" font-size=\"14.00\" text-anchor=\"middle\" x=\"137.6\" y=\"-80.3\">0</text>\n",
       "</g>\n",
       "<!-- 8&#45;&gt;0 -->\n",
       "<g class=\"edge\" id=\"edge2\">\n",
       "<title>8-&gt;0</title>\n",
       "<path d=\"M74.2079,-47.0881C85.3526,-53.5775 100.562,-62.4335 113.2893,-69.8444\" fill=\"none\" stroke=\"#000000\"/>\n",
       "<polygon fill=\"#000000\" points=\"111.6216,-72.9234 122.0246,-74.9308 115.144,-66.8742 111.6216,-72.9234\" stroke=\"#000000\"/>\n",
       "<text fill=\"#000000\" font-family=\"Times,serif\" font-size=\"14.00\" text-anchor=\"middle\" x=\"98.1\" y=\"-65.8\">ε</text>\n",
       "</g>\n",
       "<!-- 9 -->\n",
       "<g class=\"node\" id=\"node11\">\n",
       "<title>9</title>\n",
       "<ellipse cx=\"644.6\" cy=\"-38\" fill=\"none\" rx=\"18\" ry=\"18\" stroke=\"#000000\"/>\n",
       "<ellipse cx=\"644.6\" cy=\"-38\" fill=\"none\" rx=\"22\" ry=\"22\" stroke=\"#000000\"/>\n",
       "<text fill=\"#000000\" font-family=\"Times,serif\" font-size=\"14.00\" text-anchor=\"middle\" x=\"644.6\" y=\"-34.3\">9</text>\n",
       "</g>\n",
       "<!-- 8&#45;&gt;9 -->\n",
       "<g class=\"edge\" id=\"edge8\">\n",
       "<title>8-&gt;9</title>\n",
       "<path d=\"M76.799,-38C92.811,-38 116.7528,-38 137.6,-38 137.6,-38 137.6,-38 561.6,-38 578.3423,-38 596.9842,-38 612.3528,-38\" fill=\"none\" stroke=\"#000000\"/>\n",
       "<polygon fill=\"#000000\" points=\"612.4061,-41.5001 622.4061,-38 612.406,-34.5001 612.4061,-41.5001\" stroke=\"#000000\"/>\n",
       "<text fill=\"#000000\" font-family=\"Times,serif\" font-size=\"14.00\" text-anchor=\"middle\" x=\"349.6\" y=\"-41.8\">ε</text>\n",
       "</g>\n",
       "<!-- 2 -->\n",
       "<g class=\"node\" id=\"node5\">\n",
       "<title>2</title>\n",
       "<ellipse cx=\"216.6\" cy=\"-138\" fill=\"none\" rx=\"18\" ry=\"18\" stroke=\"#000000\"/>\n",
       "<text fill=\"#000000\" font-family=\"Times,serif\" font-size=\"14.00\" text-anchor=\"middle\" x=\"216.6\" y=\"-134.3\">2</text>\n",
       "</g>\n",
       "<!-- 0&#45;&gt;2 -->\n",
       "<g class=\"edge\" id=\"edge13\">\n",
       "<title>0-&gt;2</title>\n",
       "<path d=\"M152.832,-94.4117C164.271,-102.2308 180.1433,-113.0802 193.1905,-121.9986\" fill=\"none\" stroke=\"#000000\"/>\n",
       "<polygon fill=\"#000000\" points=\"191.4519,-125.0497 201.6827,-127.8034 195.4021,-119.2707 191.4519,-125.0497\" stroke=\"#000000\"/>\n",
       "<text fill=\"#000000\" font-family=\"Times,serif\" font-size=\"14.00\" text-anchor=\"middle\" x=\"177.1\" y=\"-115.8\">ε</text>\n",
       "</g>\n",
       "<!-- 4 -->\n",
       "<g class=\"node\" id=\"node7\">\n",
       "<title>4</title>\n",
       "<ellipse cx=\"216.6\" cy=\"-84\" fill=\"none\" rx=\"18\" ry=\"18\" stroke=\"#000000\"/>\n",
       "<text fill=\"#000000\" font-family=\"Times,serif\" font-size=\"14.00\" text-anchor=\"middle\" x=\"216.6\" y=\"-80.3\">4</text>\n",
       "</g>\n",
       "<!-- 0&#45;&gt;4 -->\n",
       "<g class=\"edge\" id=\"edge12\">\n",
       "<title>0-&gt;4</title>\n",
       "<path d=\"M155.9228,-84C165.4947,-84 177.4223,-84 188.1629,-84\" fill=\"none\" stroke=\"#000000\"/>\n",
       "<polygon fill=\"#000000\" points=\"188.3766,-87.5001 198.3766,-84 188.3766,-80.5001 188.3766,-87.5001\" stroke=\"#000000\"/>\n",
       "<text fill=\"#000000\" font-family=\"Times,serif\" font-size=\"14.00\" text-anchor=\"middle\" x=\"177.1\" y=\"-87.8\">ε</text>\n",
       "</g>\n",
       "<!-- 1 -->\n",
       "<g class=\"node\" id=\"node4\">\n",
       "<title>1</title>\n",
       "<ellipse cx=\"561.6\" cy=\"-84\" fill=\"none\" rx=\"18\" ry=\"18\" stroke=\"#000000\"/>\n",
       "<text fill=\"#000000\" font-family=\"Times,serif\" font-size=\"14.00\" text-anchor=\"middle\" x=\"561.6\" y=\"-80.3\">1</text>\n",
       "</g>\n",
       "<!-- 1&#45;&gt;9 -->\n",
       "<g class=\"edge\" id=\"edge11\">\n",
       "<title>1-&gt;9</title>\n",
       "<path d=\"M577.6032,-75.1307C588.5203,-69.0803 603.2807,-60.8998 616.1686,-53.7572\" fill=\"none\" stroke=\"#000000\"/>\n",
       "<polygon fill=\"#000000\" points=\"618.0903,-56.6938 625.1402,-48.785 614.697,-50.5712 618.0903,-56.6938\" stroke=\"#000000\"/>\n",
       "<text fill=\"#000000\" font-family=\"Times,serif\" font-size=\"14.00\" text-anchor=\"middle\" x=\"601.1\" y=\"-66.8\">ε</text>\n",
       "</g>\n",
       "<!-- 3 -->\n",
       "<g class=\"node\" id=\"node6\">\n",
       "<title>3</title>\n",
       "<ellipse cx=\"349.6\" cy=\"-135\" fill=\"none\" rx=\"18\" ry=\"18\" stroke=\"#000000\"/>\n",
       "<text fill=\"#000000\" font-family=\"Times,serif\" font-size=\"14.00\" text-anchor=\"middle\" x=\"349.6\" y=\"-131.3\">3</text>\n",
       "</g>\n",
       "<!-- 2&#45;&gt;3 -->\n",
       "<g class=\"edge\" id=\"edge10\">\n",
       "<title>2-&gt;3</title>\n",
       "<path d=\"M234.8142,-137.5892C257.0743,-137.087 294.9955,-136.2317 321.123,-135.6423\" fill=\"none\" stroke=\"#000000\"/>\n",
       "<polygon fill=\"#000000\" points=\"321.2605,-139.1402 331.179,-135.4155 321.1026,-132.142 321.2605,-139.1402\" stroke=\"#000000\"/>\n",
       "<text fill=\"#000000\" font-family=\"Times,serif\" font-size=\"14.00\" text-anchor=\"middle\" x=\"256.1\" y=\"-140.8\">a</text>\n",
       "</g>\n",
       "<!-- 3&#45;&gt;1 -->\n",
       "<g class=\"edge\" id=\"edge7\">\n",
       "<title>3-&gt;1</title>\n",
       "<path d=\"M367.8148,-134.2725C400.6002,-132.4097 471.1971,-125.8514 525.6,-103 529.3058,-101.4434 533.1418,-99.6407 536.8674,-97.778\" fill=\"none\" stroke=\"#000000\"/>\n",
       "<polygon fill=\"#000000\" points=\"538.5209,-100.863 545.7635,-93.1303 535.2795,-94.6587 538.5209,-100.863\" stroke=\"#000000\"/>\n",
       "<text fill=\"#000000\" font-family=\"Times,serif\" font-size=\"14.00\" text-anchor=\"middle\" x=\"443.1\" y=\"-129.8\">ε</text>\n",
       "</g>\n",
       "<!-- 5 -->\n",
       "<g class=\"node\" id=\"node8\">\n",
       "<title>5</title>\n",
       "<ellipse cx=\"295.6\" cy=\"-84\" fill=\"none\" rx=\"18\" ry=\"18\" stroke=\"#000000\"/>\n",
       "<text fill=\"#000000\" font-family=\"Times,serif\" font-size=\"14.00\" text-anchor=\"middle\" x=\"295.6\" y=\"-80.3\">5</text>\n",
       "</g>\n",
       "<!-- 4&#45;&gt;5 -->\n",
       "<g class=\"edge\" id=\"edge5\">\n",
       "<title>4-&gt;5</title>\n",
       "<path d=\"M234.9228,-84C244.4947,-84 256.4223,-84 267.1629,-84\" fill=\"none\" stroke=\"#000000\"/>\n",
       "<polygon fill=\"#000000\" points=\"267.3766,-87.5001 277.3766,-84 267.3766,-80.5001 267.3766,-87.5001\" stroke=\"#000000\"/>\n",
       "<text fill=\"#000000\" font-family=\"Times,serif\" font-size=\"14.00\" text-anchor=\"middle\" x=\"256.1\" y=\"-87.8\">b</text>\n",
       "</g>\n",
       "<!-- 6 -->\n",
       "<g class=\"node\" id=\"node9\">\n",
       "<title>6</title>\n",
       "<ellipse cx=\"403.6\" cy=\"-84\" fill=\"none\" rx=\"18\" ry=\"18\" stroke=\"#000000\"/>\n",
       "<text fill=\"#000000\" font-family=\"Times,serif\" font-size=\"14.00\" text-anchor=\"middle\" x=\"403.6\" y=\"-80.3\">6</text>\n",
       "</g>\n",
       "<!-- 5&#45;&gt;6 -->\n",
       "<g class=\"edge\" id=\"edge9\">\n",
       "<title>5-&gt;6</title>\n",
       "<path d=\"M313.9207,-84C330.779,-84 356.0349,-84 375.453,-84\" fill=\"none\" stroke=\"#000000\"/>\n",
       "<polygon fill=\"#000000\" points=\"375.5499,-87.5001 385.5498,-84 375.5498,-80.5001 375.5499,-87.5001\" stroke=\"#000000\"/>\n",
       "<text fill=\"#000000\" font-family=\"Times,serif\" font-size=\"14.00\" text-anchor=\"middle\" x=\"349.6\" y=\"-87.8\">ε</text>\n",
       "</g>\n",
       "<!-- 7 -->\n",
       "<g class=\"node\" id=\"node10\">\n",
       "<title>7</title>\n",
       "<ellipse cx=\"482.6\" cy=\"-84\" fill=\"none\" rx=\"18\" ry=\"18\" stroke=\"#000000\"/>\n",
       "<text fill=\"#000000\" font-family=\"Times,serif\" font-size=\"14.00\" text-anchor=\"middle\" x=\"482.6\" y=\"-80.3\">7</text>\n",
       "</g>\n",
       "<!-- 6&#45;&gt;7 -->\n",
       "<g class=\"edge\" id=\"edge3\">\n",
       "<title>6-&gt;7</title>\n",
       "<path d=\"M421.9228,-84C431.4947,-84 443.4223,-84 454.1629,-84\" fill=\"none\" stroke=\"#000000\"/>\n",
       "<polygon fill=\"#000000\" points=\"454.3766,-87.5001 464.3766,-84 454.3766,-80.5001 454.3766,-87.5001\" stroke=\"#000000\"/>\n",
       "<text fill=\"#000000\" font-family=\"Times,serif\" font-size=\"14.00\" text-anchor=\"middle\" x=\"443.1\" y=\"-87.8\">a</text>\n",
       "</g>\n",
       "<!-- 7&#45;&gt;1 -->\n",
       "<g class=\"edge\" id=\"edge4\">\n",
       "<title>7-&gt;1</title>\n",
       "<path d=\"M500.9228,-84C510.4947,-84 522.4223,-84 533.1629,-84\" fill=\"none\" stroke=\"#000000\"/>\n",
       "<polygon fill=\"#000000\" points=\"533.3766,-87.5001 543.3766,-84 533.3766,-80.5001 533.3766,-87.5001\" stroke=\"#000000\"/>\n",
       "<text fill=\"#000000\" font-family=\"Times,serif\" font-size=\"14.00\" text-anchor=\"middle\" x=\"522.1\" y=\"-87.8\">ε</text>\n",
       "</g>\n",
       "<!-- 9&#45;&gt;8 -->\n",
       "<g class=\"edge\" id=\"edge6\">\n",
       "<title>9-&gt;8</title>\n",
       "<path d=\"M626.8793,-24.4956C610.7588,-13.5733 585.8476,0 561.6,0 137.6,0 137.6,0 137.6,0 116.9895,0 96.0778,-10.6336 80.9511,-20.6507\" fill=\"none\" stroke=\"#000000\"/>\n",
       "<polygon fill=\"#000000\" points=\"78.9393,-17.7866 72.7592,-26.3923 82.957,-23.5189 78.9393,-17.7866\" stroke=\"#000000\"/>\n",
       "<text fill=\"#000000\" font-family=\"Times,serif\" font-size=\"14.00\" text-anchor=\"middle\" x=\"349.6\" y=\"-3.8\">ε</text>\n",
       "</g>\n",
       "</g>\n",
       "</svg>"
      ],
      "text/plain": [
       "<IPython.core.display.SVG object>"
      ]
     },
     "metadata": {},
     "output_type": "display_data"
    }
   ],
   "source": [
    ">>> r.nfaThompson().display()"
   ]
  },
  {
   "cell_type": "code",
   "execution_count": 32,
   "metadata": {},
   "outputs": [
    {
     "data": {
      "image/svg+xml": [
       "<svg height=\"132pt\" viewBox=\"0.00 0.00 345.60 132.00\" width=\"346pt\" xmlns=\"http://www.w3.org/2000/svg\" xmlns:xlink=\"http://www.w3.org/1999/xlink\">\n",
       "<g class=\"graph\" id=\"graph0\" transform=\"scale(1 1) rotate(0) translate(4 128)\">\n",
       "<title>finite_state_machine</title>\n",
       "<polygon fill=\"#ffffff\" points=\"-4,4 -4,-128 341.6,-128 341.6,4 -4,4\" stroke=\"transparent\"/>\n",
       "<!-- dummy0 -->\n",
       "<g class=\"node\" id=\"node1\">\n",
       "<title>dummy0</title>\n",
       "<ellipse cx=\"1.8\" cy=\"-30\" fill=\"#000000\" rx=\"1.8\" ry=\"1.8\" stroke=\"#000000\"/>\n",
       "</g>\n",
       "<!-- 0 -->\n",
       "<g class=\"node\" id=\"node2\">\n",
       "<title>0</title>\n",
       "<ellipse cx=\"62.6\" cy=\"-30\" fill=\"none\" rx=\"18\" ry=\"18\" stroke=\"#000000\"/>\n",
       "<ellipse cx=\"62.6\" cy=\"-30\" fill=\"none\" rx=\"22\" ry=\"22\" stroke=\"#000000\"/>\n",
       "<text fill=\"#000000\" font-family=\"Times,serif\" font-size=\"14.00\" text-anchor=\"middle\" x=\"62.6\" y=\"-26.3\">0</text>\n",
       "</g>\n",
       "<!-- dummy0&#45;&gt;0 -->\n",
       "<g class=\"edge\" id=\"edge1\">\n",
       "<title>dummy0-&gt;0</title>\n",
       "<path d=\"M3.8229,-30C8.2086,-30 19.1055,-30 30.3421,-30\" fill=\"none\" stroke=\"#000000\"/>\n",
       "<polygon fill=\"#000000\" points=\"30.58,-33.5001 40.58,-30 30.5799,-26.5001 30.58,-33.5001\" stroke=\"#000000\"/>\n",
       "</g>\n",
       "<!-- 1 -->\n",
       "<g class=\"node\" id=\"node3\">\n",
       "<title>1</title>\n",
       "<ellipse cx=\"149.6\" cy=\"-69\" fill=\"none\" rx=\"18\" ry=\"18\" stroke=\"#000000\"/>\n",
       "<ellipse cx=\"149.6\" cy=\"-69\" fill=\"none\" rx=\"22\" ry=\"22\" stroke=\"#000000\"/>\n",
       "<text fill=\"#000000\" font-family=\"Times,serif\" font-size=\"14.00\" text-anchor=\"middle\" x=\"149.6\" y=\"-65.3\">1</text>\n",
       "</g>\n",
       "<!-- 0&#45;&gt;1 -->\n",
       "<g class=\"edge\" id=\"edge2\">\n",
       "<title>0-&gt;1</title>\n",
       "<path d=\"M82.7782,-39.0454C93.7893,-43.9814 107.631,-50.1863 119.8566,-55.6667\" fill=\"none\" stroke=\"#000000\"/>\n",
       "<polygon fill=\"#000000\" points=\"118.673,-58.9717 129.2298,-59.8685 121.5364,-52.5841 118.673,-58.9717\" stroke=\"#000000\"/>\n",
       "<text fill=\"#000000\" font-family=\"Times,serif\" font-size=\"14.00\" text-anchor=\"middle\" x=\"106.1\" y=\"-53.8\">a</text>\n",
       "</g>\n",
       "<!-- 2 -->\n",
       "<g class=\"node\" id=\"node4\">\n",
       "<title>2</title>\n",
       "<ellipse cx=\"232.6\" cy=\"-18\" fill=\"none\" rx=\"18\" ry=\"18\" stroke=\"#000000\"/>\n",
       "<text fill=\"#000000\" font-family=\"Times,serif\" font-size=\"14.00\" text-anchor=\"middle\" x=\"232.6\" y=\"-14.3\">2</text>\n",
       "</g>\n",
       "<!-- 0&#45;&gt;2 -->\n",
       "<g class=\"edge\" id=\"edge8\">\n",
       "<title>0-&gt;2</title>\n",
       "<path d=\"M84.5333,-27.3084C97.1194,-25.8465 113.2287,-24.115 127.6,-23 153.4755,-20.9924 183.005,-19.6723 204.1438,-18.8955\" fill=\"none\" stroke=\"#000000\"/>\n",
       "<polygon fill=\"#000000\" points=\"204.4978,-22.3853 214.3694,-18.538 204.2532,-15.3896 204.4978,-22.3853\" stroke=\"#000000\"/>\n",
       "<text fill=\"#000000\" font-family=\"Times,serif\" font-size=\"14.00\" text-anchor=\"middle\" x=\"149.6\" y=\"-26.8\">b</text>\n",
       "</g>\n",
       "<!-- 1&#45;&gt;1 -->\n",
       "<g class=\"edge\" id=\"edge6\">\n",
       "<title>1-&gt;1</title>\n",
       "<path d=\"M141.9173,-89.9908C140.9688,-100.0872 143.5297,-109 149.6,-109 153.4888,-109 155.9373,-105.3422 156.9456,-100.0587\" fill=\"none\" stroke=\"#000000\"/>\n",
       "<polygon fill=\"#000000\" points=\"160.446,-100.1023 157.2827,-89.9908 153.4499,-99.868 160.446,-100.1023\" stroke=\"#000000\"/>\n",
       "<text fill=\"#000000\" font-family=\"Times,serif\" font-size=\"14.00\" text-anchor=\"middle\" x=\"149.6\" y=\"-112.8\">a</text>\n",
       "</g>\n",
       "<!-- 1&#45;&gt;2 -->\n",
       "<g class=\"edge\" id=\"edge3\">\n",
       "<title>1-&gt;2</title>\n",
       "<path d=\"M168.434,-57.4273C180.2881,-50.1434 195.7014,-40.6726 208.4504,-32.8389\" fill=\"none\" stroke=\"#000000\"/>\n",
       "<polygon fill=\"#000000\" points=\"210.486,-35.6961 217.1738,-27.4788 206.8213,-29.732 210.486,-35.6961\" stroke=\"#000000\"/>\n",
       "<text fill=\"#000000\" font-family=\"Times,serif\" font-size=\"14.00\" text-anchor=\"middle\" x=\"193.1\" y=\"-46.8\">b</text>\n",
       "</g>\n",
       "<!-- 3 -->\n",
       "<g class=\"node\" id=\"node5\">\n",
       "<title>3</title>\n",
       "<ellipse cx=\"315.6\" cy=\"-47\" fill=\"none\" rx=\"18\" ry=\"18\" stroke=\"#000000\"/>\n",
       "<ellipse cx=\"315.6\" cy=\"-47\" fill=\"none\" rx=\"22\" ry=\"22\" stroke=\"#000000\"/>\n",
       "<text fill=\"#000000\" font-family=\"Times,serif\" font-size=\"14.00\" text-anchor=\"middle\" x=\"315.6\" y=\"-43.3\">3</text>\n",
       "</g>\n",
       "<!-- 2&#45;&gt;3 -->\n",
       "<g class=\"edge\" id=\"edge7\">\n",
       "<title>2-&gt;3</title>\n",
       "<path d=\"M249.7977,-24.0088C259.9619,-27.5602 273.1293,-32.1608 285.0119,-36.3126\" fill=\"none\" stroke=\"#000000\"/>\n",
       "<polygon fill=\"#000000\" points=\"284.0021,-39.6672 294.5969,-39.6616 286.3111,-33.059 284.0021,-39.6672\" stroke=\"#000000\"/>\n",
       "<text fill=\"#000000\" font-family=\"Times,serif\" font-size=\"14.00\" text-anchor=\"middle\" x=\"272.1\" y=\"-35.8\">a</text>\n",
       "</g>\n",
       "<!-- 3&#45;&gt;1 -->\n",
       "<g class=\"edge\" id=\"edge5\">\n",
       "<title>3-&gt;1</title>\n",
       "<path d=\"M293.7297,-49.8985C265.0885,-53.6943 214.6534,-60.3785 181.6843,-64.7479\" fill=\"none\" stroke=\"#000000\"/>\n",
       "<polygon fill=\"#000000\" points=\"181.097,-61.295 171.6435,-66.0786 182.0167,-68.2343 181.097,-61.295\" stroke=\"#000000\"/>\n",
       "<text fill=\"#000000\" font-family=\"Times,serif\" font-size=\"14.00\" text-anchor=\"middle\" x=\"232.6\" y=\"-63.8\">a</text>\n",
       "</g>\n",
       "<!-- 3&#45;&gt;2 -->\n",
       "<g class=\"edge\" id=\"edge4\">\n",
       "<title>3-&gt;2</title>\n",
       "<path d=\"M301.9634,-29.496C294.9887,-21.9732 285.8179,-14.0012 275.6,-10 270.5158,-8.0091 264.8952,-7.7678 259.4407,-8.4503\" fill=\"none\" stroke=\"#000000\"/>\n",
       "<polygon fill=\"#000000\" points=\"258.3492,-5.107 249.341,-10.6841 259.8609,-11.9419 258.3492,-5.107\" stroke=\"#000000\"/>\n",
       "<text fill=\"#000000\" font-family=\"Times,serif\" font-size=\"14.00\" text-anchor=\"middle\" x=\"272.1\" y=\"-13.8\">b</text>\n",
       "</g>\n",
       "</g>\n",
       "</svg>"
      ],
      "text/plain": [
       "<IPython.core.display.SVG object>"
      ]
     },
     "metadata": {},
     "output_type": "display_data"
    }
   ],
   "source": [
    ">>> r.nfaPosition().display()"
   ]
  },
  {
   "cell_type": "code",
   "execution_count": 33,
   "metadata": {},
   "outputs": [
    {
     "data": {
      "image/svg+xml": [
       "<svg height=\"85pt\" viewBox=\"0.00 0.00 171.60 85.00\" width=\"172pt\" xmlns=\"http://www.w3.org/2000/svg\" xmlns:xlink=\"http://www.w3.org/1999/xlink\">\n",
       "<g class=\"graph\" id=\"graph0\" transform=\"scale(1 1) rotate(0) translate(4 81)\">\n",
       "<title>finite_state_machine</title>\n",
       "<polygon fill=\"#ffffff\" points=\"-4,4 -4,-81 167.6,-81 167.6,4 -4,4\" stroke=\"transparent\"/>\n",
       "<!-- dummy0 -->\n",
       "<g class=\"node\" id=\"node1\">\n",
       "<title>dummy0</title>\n",
       "<ellipse cx=\"1.8\" cy=\"-22\" fill=\"#000000\" rx=\"1.8\" ry=\"1.8\" stroke=\"#000000\"/>\n",
       "</g>\n",
       "<!-- 0 -->\n",
       "<g class=\"node\" id=\"node2\">\n",
       "<title>0</title>\n",
       "<ellipse cx=\"62.6\" cy=\"-22\" fill=\"none\" rx=\"18\" ry=\"18\" stroke=\"#000000\"/>\n",
       "<ellipse cx=\"62.6\" cy=\"-22\" fill=\"none\" rx=\"22\" ry=\"22\" stroke=\"#000000\"/>\n",
       "<text fill=\"#000000\" font-family=\"Times,serif\" font-size=\"14.00\" text-anchor=\"middle\" x=\"62.6\" y=\"-18.3\">0</text>\n",
       "</g>\n",
       "<!-- dummy0&#45;&gt;0 -->\n",
       "<g class=\"edge\" id=\"edge1\">\n",
       "<title>dummy0-&gt;0</title>\n",
       "<path d=\"M3.8229,-22C8.2086,-22 19.1055,-22 30.3421,-22\" fill=\"none\" stroke=\"#000000\"/>\n",
       "<polygon fill=\"#000000\" points=\"30.58,-25.5001 40.58,-22 30.5799,-18.5001 30.58,-25.5001\" stroke=\"#000000\"/>\n",
       "</g>\n",
       "<!-- 0&#45;&gt;0 -->\n",
       "<g class=\"edge\" id=\"edge4\">\n",
       "<title>0-&gt;0</title>\n",
       "<path d=\"M55.2831,-42.9908C54.3798,-53.0872 56.8188,-62 62.6,-62 66.3036,-62 68.6356,-58.3422 69.5958,-53.0587\" fill=\"none\" stroke=\"#000000\"/>\n",
       "<polygon fill=\"#000000\" points=\"73.0963,-53.0973 69.9169,-42.9908 66.0998,-52.8741 73.0963,-53.0973\" stroke=\"#000000\"/>\n",
       "<text fill=\"#000000\" font-family=\"Times,serif\" font-size=\"14.00\" text-anchor=\"middle\" x=\"62.6\" y=\"-65.8\">a</text>\n",
       "</g>\n",
       "<!-- 1 -->\n",
       "<g class=\"node\" id=\"node3\">\n",
       "<title>1</title>\n",
       "<ellipse cx=\"145.6\" cy=\"-22\" fill=\"none\" rx=\"18\" ry=\"18\" stroke=\"#000000\"/>\n",
       "<text fill=\"#000000\" font-family=\"Times,serif\" font-size=\"14.00\" text-anchor=\"middle\" x=\"145.6\" y=\"-18.3\">1</text>\n",
       "</g>\n",
       "<!-- 0&#45;&gt;1 -->\n",
       "<g class=\"edge\" id=\"edge2\">\n",
       "<title>0-&gt;1</title>\n",
       "<path d=\"M84.8425,-22C94.8544,-22 106.7877,-22 117.4172,-22\" fill=\"none\" stroke=\"#000000\"/>\n",
       "<polygon fill=\"#000000\" points=\"117.4927,-25.5001 127.4927,-22 117.4926,-18.5001 117.4927,-25.5001\" stroke=\"#000000\"/>\n",
       "<text fill=\"#000000\" font-family=\"Times,serif\" font-size=\"14.00\" text-anchor=\"middle\" x=\"106.1\" y=\"-25.8\">b</text>\n",
       "</g>\n",
       "<!-- 1&#45;&gt;0 -->\n",
       "<g class=\"edge\" id=\"edge3\">\n",
       "<title>1-&gt;0</title>\n",
       "<path d=\"M130.4943,-11.93C124.2932,-8.3682 116.8713,-4.8011 109.6,-3 103.0966,-1.3891 96.305,-2.4163 89.9716,-4.6552\" fill=\"none\" stroke=\"#000000\"/>\n",
       "<polygon fill=\"#000000\" points=\"88.1546,-1.6367 80.5036,-8.9656 91.0551,-8.0075 88.1546,-1.6367\" stroke=\"#000000\"/>\n",
       "<text fill=\"#000000\" font-family=\"Times,serif\" font-size=\"14.00\" text-anchor=\"middle\" x=\"106.1\" y=\"-6.8\">a</text>\n",
       "</g>\n",
       "</g>\n",
       "</svg>"
      ],
      "text/plain": [
       "<IPython.core.display.SVG object>"
      ]
     },
     "metadata": {},
     "output_type": "display_data"
    }
   ],
   "source": [
    ">>> r.nfaPD().display()"
   ]
  },
  {
   "cell_type": "code",
   "execution_count": 34,
   "metadata": {},
   "outputs": [
    {
     "data": {
      "text/plain": [
       "DFA((['0', '2'], ['a', 'b'], '0', ['0'], \"[('0', 'a', '0'), ('0', 'b', '2'), ('2', 'a', '0')]\"))"
      ]
     },
     "execution_count": 34,
     "metadata": {},
     "output_type": "execute_result"
    }
   ],
   "source": [
    ">>> r.nfaPosition().toDFA().minimal(complete=False)"
   ]
  },
  {
   "cell_type": "code",
   "execution_count": 27,
   "metadata": {},
   "outputs": [
    {
     "data": {
      "text/plain": [
       "True"
      ]
     },
     "execution_count": 27,
     "metadata": {},
     "output_type": "execute_result"
    }
   ],
   "source": [
    ">>> m3 == m3.reCG().nfaPD().toDFA().minimal()"
   ]
  },
  {
   "cell_type": "code",
   "execution_count": null,
   "metadata": {},
   "outputs": [],
   "source": []
  },
  {
   "cell_type": "code",
   "execution_count": null,
   "metadata": {},
   "outputs": [],
   "source": []
  },
  {
   "cell_type": "code",
   "execution_count": null,
   "metadata": {},
   "outputs": [],
   "source": []
  },
  {
   "cell_type": "code",
   "execution_count": null,
   "metadata": {},
   "outputs": [],
   "source": []
  },
  {
   "cell_type": "code",
   "execution_count": null,
   "metadata": {},
   "outputs": [],
   "source": []
  }
 ],
 "metadata": {
  "kernelspec": {
   "display_name": "Python 2",
   "language": "python",
   "name": "python2"
  },
  "language_info": {
   "codemirror_mode": {
    "name": "ipython",
    "version": 2
   },
   "file_extension": ".py",
   "mimetype": "text/x-python",
   "name": "python",
   "nbconvert_exporter": "python",
   "pygments_lexer": "ipython2",
   "version": "2.7.15rc1"
  }
 },
 "nbformat": 4,
 "nbformat_minor": 2
}
