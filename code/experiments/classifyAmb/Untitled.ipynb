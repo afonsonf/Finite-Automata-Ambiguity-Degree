{
 "cells": [
  {
   "cell_type": "code",
   "execution_count": 1,
   "metadata": {},
   "outputs": [],
   "source": [
    "import shelve\n",
    "import os\n",
    "\n",
    "import cPickle as pickle\n",
    "\n",
    "from FAdo.fa import *\n",
    "from FAdo.reex import *\n",
    "from FAdo.fio import *\n",
    "\n",
    "import ambiguityTest\n",
    "# import degreeOfAmbiguity"
   ]
  },
  {
   "cell_type": "code",
   "execution_count": 7,
   "metadata": {},
   "outputs": [
    {
     "data": {
      "image/svg+xml": [
       "<svg height=\"75pt\" viewBox=\"0.00 0.00 343.60 75.00\" width=\"344pt\" xmlns=\"http://www.w3.org/2000/svg\" xmlns:xlink=\"http://www.w3.org/1999/xlink\">\n",
       "<g class=\"graph\" id=\"graph0\" transform=\"scale(1 1) rotate(0) translate(4 71)\">\n",
       "<title>finite_state_machine</title>\n",
       "<polygon fill=\"#ffffff\" points=\"-4,4 -4,-71 339.6,-71 339.6,4 -4,4\" stroke=\"transparent\"/>\n",
       "<!-- dummy0 -->\n",
       "<g class=\"node\" id=\"node1\">\n",
       "<title>dummy0</title>\n",
       "<ellipse cx=\"1.8\" cy=\"-35\" fill=\"#000000\" rx=\"1.8\" ry=\"1.8\" stroke=\"#000000\"/>\n",
       "</g>\n",
       "<!-- 0 -->\n",
       "<g class=\"node\" id=\"node2\">\n",
       "<title>0</title>\n",
       "<ellipse cx=\"62.6\" cy=\"-35\" fill=\"none\" rx=\"18\" ry=\"18\" stroke=\"#000000\"/>\n",
       "<ellipse cx=\"62.6\" cy=\"-35\" fill=\"none\" rx=\"22\" ry=\"22\" stroke=\"#000000\"/>\n",
       "<text fill=\"#000000\" font-family=\"Times,serif\" font-size=\"14.00\" text-anchor=\"middle\" x=\"62.6\" y=\"-31.3\">0</text>\n",
       "</g>\n",
       "<!-- dummy0&#45;&gt;0 -->\n",
       "<g class=\"edge\" id=\"edge1\">\n",
       "<title>dummy0-&gt;0</title>\n",
       "<path d=\"M3.8229,-35C8.2086,-35 19.1055,-35 30.3421,-35\" fill=\"none\" stroke=\"#000000\"/>\n",
       "<polygon fill=\"#000000\" points=\"30.58,-38.5001 40.58,-35 30.5799,-31.5001 30.58,-38.5001\" stroke=\"#000000\"/>\n",
       "</g>\n",
       "<!-- 1 -->\n",
       "<g class=\"node\" id=\"node3\">\n",
       "<title>1</title>\n",
       "<ellipse cx=\"159.6\" cy=\"-48\" fill=\"none\" rx=\"18\" ry=\"18\" stroke=\"#000000\"/>\n",
       "<text fill=\"#000000\" font-family=\"Times,serif\" font-size=\"14.00\" text-anchor=\"middle\" x=\"159.6\" y=\"-44.3\">1</text>\n",
       "</g>\n",
       "<!-- 0&#45;&gt;1 -->\n",
       "<g class=\"edge\" id=\"edge2\">\n",
       "<title>0-&gt;1</title>\n",
       "<path d=\"M82.4959,-44.6839C88.7767,-47.2664 95.8431,-49.6987 102.6,-51 112.0031,-52.8109 122.429,-52.8272 131.7658,-52.1457\" fill=\"none\" stroke=\"#000000\"/>\n",
       "<polygon fill=\"#000000\" points=\"132.1347,-55.6263 141.732,-51.1383 131.4306,-48.6618 132.1347,-55.6263\" stroke=\"#000000\"/>\n",
       "<text fill=\"#000000\" font-family=\"Times,serif\" font-size=\"14.00\" text-anchor=\"middle\" x=\"113.1\" y=\"-55.8\">a, b</text>\n",
       "</g>\n",
       "<!-- 1&#45;&gt;0 -->\n",
       "<g class=\"edge\" id=\"edge4\">\n",
       "<title>1-&gt;0</title>\n",
       "<path d=\"M143.5997,-39.1683C137.5256,-36.2824 130.4243,-33.4482 123.6,-32 114.3307,-30.0329 104.0994,-29.8048 94.7073,-30.3413\" fill=\"none\" stroke=\"#000000\"/>\n",
       "<polygon fill=\"#000000\" points=\"94.2167,-26.8706 84.5558,-31.2199 94.8204,-33.8445 94.2167,-26.8706\" stroke=\"#000000\"/>\n",
       "<text fill=\"#000000\" font-family=\"Times,serif\" font-size=\"14.00\" text-anchor=\"middle\" x=\"113.1\" y=\"-35.8\">b</text>\n",
       "</g>\n",
       "<!-- 2 -->\n",
       "<g class=\"node\" id=\"node4\">\n",
       "<title>2</title>\n",
       "<ellipse cx=\"238.6\" cy=\"-48\" fill=\"none\" rx=\"18\" ry=\"18\" stroke=\"#000000\"/>\n",
       "<text fill=\"#000000\" font-family=\"Times,serif\" font-size=\"14.00\" text-anchor=\"middle\" x=\"238.6\" y=\"-44.3\">2</text>\n",
       "</g>\n",
       "<!-- 1&#45;&gt;2 -->\n",
       "<g class=\"edge\" id=\"edge3\">\n",
       "<title>1-&gt;2</title>\n",
       "<path d=\"M177.9228,-48C187.4947,-48 199.4223,-48 210.1629,-48\" fill=\"none\" stroke=\"#000000\"/>\n",
       "<polygon fill=\"#000000\" points=\"210.3766,-51.5001 220.3766,-48 210.3766,-44.5001 210.3766,-51.5001\" stroke=\"#000000\"/>\n",
       "<text fill=\"#000000\" font-family=\"Times,serif\" font-size=\"14.00\" text-anchor=\"middle\" x=\"199.1\" y=\"-51.8\">b</text>\n",
       "</g>\n",
       "<!-- 3 -->\n",
       "<g class=\"node\" id=\"node5\">\n",
       "<title>3</title>\n",
       "<ellipse cx=\"317.6\" cy=\"-18\" fill=\"none\" rx=\"18\" ry=\"18\" stroke=\"#000000\"/>\n",
       "<text fill=\"#000000\" font-family=\"Times,serif\" font-size=\"14.00\" text-anchor=\"middle\" x=\"317.6\" y=\"-14.3\">3</text>\n",
       "</g>\n",
       "<!-- 2&#45;&gt;3 -->\n",
       "<g class=\"edge\" id=\"edge5\">\n",
       "<title>2-&gt;3</title>\n",
       "<path d=\"M255.7418,-41.4904C266.0608,-37.5718 279.4152,-32.5006 291.0734,-28.0734\" fill=\"none\" stroke=\"#000000\"/>\n",
       "<polygon fill=\"#000000\" points=\"292.657,-31.216 300.763,-24.3938 290.1718,-24.6719 292.657,-31.216\" stroke=\"#000000\"/>\n",
       "<text fill=\"#000000\" font-family=\"Times,serif\" font-size=\"14.00\" text-anchor=\"middle\" x=\"278.1\" y=\"-36.8\">b</text>\n",
       "</g>\n",
       "<!-- 3&#45;&gt;0 -->\n",
       "<g class=\"edge\" id=\"edge6\">\n",
       "<title>3-&gt;0</title>\n",
       "<path d=\"M299.5868,-17.0188C262.4258,-15.3555 174.6997,-13.2959 102.6,-26 99.7741,-26.4979 96.8463,-27.0622 93.9187,-27.6596\" fill=\"none\" stroke=\"#000000\"/>\n",
       "<polygon fill=\"#000000\" points=\"93.1545,-24.2439 84.1149,-29.77 94.6276,-31.0871 93.1545,-24.2439\" stroke=\"#000000\"/>\n",
       "<text fill=\"#000000\" font-family=\"Times,serif\" font-size=\"14.00\" text-anchor=\"middle\" x=\"199.1\" y=\"-19.8\">a</text>\n",
       "</g>\n",
       "</g>\n",
       "</svg>"
      ],
      "text/plain": [
       "<IPython.core.display.SVG object>"
      ]
     },
     "metadata": {},
     "output_type": "display_data"
    }
   ],
   "source": [
    "db = shelve.open('data/pd_2_20')\n",
    "s = db[\"{}\".format(6000)][\"nfa\"]\n",
    "nfa = s.toNFA()\n",
    "nfa.display()\n",
    "db.close()"
   ]
  },
  {
   "cell_type": "code",
   "execution_count": null,
   "metadata": {},
   "outputs": [],
   "source": []
  },
  {
   "cell_type": "code",
   "execution_count": null,
   "metadata": {},
   "outputs": [],
   "source": []
  },
  {
   "cell_type": "code",
   "execution_count": null,
   "metadata": {},
   "outputs": [],
   "source": []
  },
  {
   "cell_type": "code",
   "execution_count": null,
   "metadata": {},
   "outputs": [],
   "source": []
  },
  {
   "cell_type": "code",
   "execution_count": null,
   "metadata": {},
   "outputs": [],
   "source": []
  }
 ],
 "metadata": {
  "kernelspec": {
   "display_name": "Python 2",
   "language": "python",
   "name": "python2"
  },
  "language_info": {
   "codemirror_mode": {
    "name": "ipython",
    "version": 2
   },
   "file_extension": ".py",
   "mimetype": "text/x-python",
   "name": "python",
   "nbconvert_exporter": "python",
   "pygments_lexer": "ipython2",
   "version": "2.7.13"
  }
 },
 "nbformat": 4,
 "nbformat_minor": 2
}
