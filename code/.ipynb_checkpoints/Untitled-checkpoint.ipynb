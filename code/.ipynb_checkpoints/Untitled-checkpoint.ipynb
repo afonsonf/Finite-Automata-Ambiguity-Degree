{
 "cells": [
  {
   "cell_type": "code",
   "execution_count": 4,
   "metadata": {},
   "outputs": [],
   "source": [
    ">>> from FAdo.fa import *\n",
    ">>> from FAdo.reex import *\n",
    ">>> from FAdo.fio import *"
   ]
  },
  {
   "cell_type": "code",
   "execution_count": 2,
   "metadata": {},
   "outputs": [],
   "source": [
    ">>> m3= DFA()\n",
    ">>> m3.setSigma(['0','1'])\n",
    ">>> m3.addState('s1')\n",
    ">>> m3.addState('s2')\n",
    ">>> m3.addState('s3')\n",
    ">>> m3.setInitial(0)\n",
    ">>> m3.addFinal(0)\n",
    ">>> m3.addTransition(0, '0', 0)\n",
    ">>> m3.addTransition(0, '1', 1)\n",
    ">>> m3.addTransition(1, '0', 2)\n",
    ">>> m3.addTransition(1, '1', 0)\n",
    ">>> m3.addTransition(2, '0', 1)\n",
    ">>> m3.addTransition(2, '1', 2)"
   ]
  },
  {
   "cell_type": "code",
   "execution_count": 9,
   "metadata": {},
   "outputs": [
    {
     "data": {
      "text/plain": [
       "DFA((['s1', 's2', 's3'], ['1', '0'], 's1', ['s1'], \"[('s1', '1', 's2'), ('s1', '0', 's1'), ('s2', '1', 's1'), ('s2', '0', 's3'), ('s3', '1', 's3'), ('s3', '0', 's2')]\"))"
      ]
     },
     "execution_count": 9,
     "metadata": {},
     "output_type": "execute_result"
    }
   ],
   "source": [
    ">>> m3"
   ]
  },
  {
   "cell_type": "code",
   "execution_count": 10,
   "metadata": {},
   "outputs": [
    {
     "data": {
      "text/plain": [
       "True"
      ]
     },
     "execution_count": 10,
     "metadata": {},
     "output_type": "execute_result"
    }
   ],
   "source": [
    ">>> m3.evalWordP(\"011\")"
   ]
  },
  {
   "cell_type": "code",
   "execution_count": 8,
   "metadata": {},
   "outputs": [
    {
     "data": {
      "text/plain": [
       "False"
      ]
     },
     "execution_count": 8,
     "metadata": {},
     "output_type": "execute_result"
    }
   ],
   "source": [
    ">>> m3.evalWordP(\"1011\")"
   ]
  },
  {
   "cell_type": "code",
   "execution_count": 13,
   "metadata": {},
   "outputs": [
    {
     "name": "stdout",
     "output_type": "stream",
     "text": [
      "Need graphviz to visualize objects\n"
     ]
    }
   ],
   "source": [
    ">>> m3.display()"
   ]
  },
  {
   "cell_type": "code",
   "execution_count": null,
   "metadata": {},
   "outputs": [],
   "source": []
  },
  {
   "cell_type": "code",
   "execution_count": null,
   "metadata": {},
   "outputs": [],
   "source": []
  }
 ],
 "metadata": {
  "kernelspec": {
   "display_name": "Python 2",
   "language": "python",
   "name": "python2"
  },
  "language_info": {
   "codemirror_mode": {
    "name": "ipython",
    "version": 2
   },
   "file_extension": ".py",
   "mimetype": "text/x-python",
   "name": "python",
   "nbconvert_exporter": "python",
   "pygments_lexer": "ipython2",
   "version": "2.7.15rc1"
  }
 },
 "nbformat": 4,
 "nbformat_minor": 2
}
