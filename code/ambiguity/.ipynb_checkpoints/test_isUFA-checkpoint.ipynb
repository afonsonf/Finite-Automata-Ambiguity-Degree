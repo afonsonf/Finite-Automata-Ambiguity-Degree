{
 "cells": [
  {
   "cell_type": "code",
   "execution_count": 1,
   "metadata": {},
   "outputs": [],
   "source": [
    "from FAdo.reex import *\n",
    "from FAdo.fio import *\n",
    "from FAdo.cfg import *\n",
    "from FAdo.fa import *\n",
    "import ambiguityTest"
   ]
  },
  {
   "cell_type": "code",
   "execution_count": 2,
   "metadata": {},
   "outputs": [
    {
     "data": {
      "image/svg+xml": [
       "<svg height=\"130pt\" viewBox=\"0.00 0.00 358.60 130.00\" width=\"359pt\" xmlns=\"http://www.w3.org/2000/svg\" xmlns:xlink=\"http://www.w3.org/1999/xlink\">\n",
       "<g class=\"graph\" id=\"graph0\" transform=\"scale(1 1) rotate(0) translate(4 126)\">\n",
       "<title>finite_state_machine</title>\n",
       "<polygon fill=\"#ffffff\" points=\"-4,4 -4,-126 354.6,-126 354.6,4 -4,4\" stroke=\"transparent\"/>\n",
       "<!-- dummy0 -->\n",
       "<g class=\"node\" id=\"node1\">\n",
       "<title>dummy0</title>\n",
       "<ellipse cx=\"1.8\" cy=\"-47\" fill=\"#000000\" rx=\"1.8\" ry=\"1.8\" stroke=\"#000000\"/>\n",
       "</g>\n",
       "<!-- 0 -->\n",
       "<g class=\"node\" id=\"node2\">\n",
       "<title>0</title>\n",
       "<ellipse cx=\"58.6\" cy=\"-47\" fill=\"none\" rx=\"18\" ry=\"18\" stroke=\"#000000\"/>\n",
       "<text fill=\"#000000\" font-family=\"Times,serif\" font-size=\"14.00\" text-anchor=\"middle\" x=\"58.6\" y=\"-43.3\">0</text>\n",
       "</g>\n",
       "<!-- dummy0&#45;&gt;0 -->\n",
       "<g class=\"edge\" id=\"edge1\">\n",
       "<title>dummy0-&gt;0</title>\n",
       "<path d=\"M3.6898,-47C8.0522,-47 19.3107,-47 30.5058,-47\" fill=\"none\" stroke=\"#000000\"/>\n",
       "<polygon fill=\"#000000\" points=\"30.5696,-50.5001 40.5696,-47 30.5696,-43.5001 30.5696,-50.5001\" stroke=\"#000000\"/>\n",
       "</g>\n",
       "<!-- 1 -->\n",
       "<g class=\"node\" id=\"node3\">\n",
       "<title>1</title>\n",
       "<ellipse cx=\"191.6\" cy=\"-71\" fill=\"none\" rx=\"18\" ry=\"18\" stroke=\"#000000\"/>\n",
       "<text fill=\"#000000\" font-family=\"Times,serif\" font-size=\"14.00\" text-anchor=\"middle\" x=\"191.6\" y=\"-67.3\">1</text>\n",
       "</g>\n",
       "<!-- 0&#45;&gt;1 -->\n",
       "<g class=\"edge\" id=\"edge2\">\n",
       "<title>0-&gt;1</title>\n",
       "<path d=\"M76.537,-50.2367C98.8471,-54.2626 137.1917,-61.182 163.437,-65.918\" fill=\"none\" stroke=\"#000000\"/>\n",
       "<polygon fill=\"#000000\" points=\"163.0598,-69.4063 173.5224,-67.7379 164.303,-62.5176 163.0598,-69.4063\" stroke=\"#000000\"/>\n",
       "<text fill=\"#000000\" font-family=\"Times,serif\" font-size=\"14.00\" text-anchor=\"middle\" x=\"98.1\" y=\"-57.8\">a</text>\n",
       "</g>\n",
       "<!-- 2 -->\n",
       "<g class=\"node\" id=\"node4\">\n",
       "<title>2</title>\n",
       "<ellipse cx=\"137.6\" cy=\"-24\" fill=\"none\" rx=\"18\" ry=\"18\" stroke=\"#000000\"/>\n",
       "<text fill=\"#000000\" font-family=\"Times,serif\" font-size=\"14.00\" text-anchor=\"middle\" x=\"137.6\" y=\"-20.3\">2</text>\n",
       "</g>\n",
       "<!-- 0&#45;&gt;2 -->\n",
       "<g class=\"edge\" id=\"edge3\">\n",
       "<title>0-&gt;2</title>\n",
       "<path d=\"M75.2505,-39.866C81.272,-37.4624 88.1714,-34.9086 94.6,-33 99.3754,-31.5822 104.513,-30.302 109.5171,-29.1816\" fill=\"none\" stroke=\"#000000\"/>\n",
       "<polygon fill=\"#000000\" points=\"110.3671,-32.5797 119.4426,-27.113 108.9388,-25.7269 110.3671,-32.5797\" stroke=\"#000000\"/>\n",
       "<text fill=\"#000000\" font-family=\"Times,serif\" font-size=\"14.00\" text-anchor=\"middle\" x=\"98.1\" y=\"-36.8\">a</text>\n",
       "</g>\n",
       "<!-- 1&#45;&gt;1 -->\n",
       "<g class=\"edge\" id=\"edge6\">\n",
       "<title>1-&gt;1</title>\n",
       "<path d=\"M182.3674,-86.5414C179.7685,-96.9087 182.8461,-107 191.6,-107 197.3448,-107 200.6449,-102.654 201.5004,-96.7362\" fill=\"none\" stroke=\"#000000\"/>\n",
       "<polygon fill=\"#000000\" points=\"204.9789,-96.2913 200.8326,-86.5414 197.9939,-96.7489 204.9789,-96.2913\" stroke=\"#000000\"/>\n",
       "<text fill=\"#000000\" font-family=\"Times,serif\" font-size=\"14.00\" text-anchor=\"middle\" x=\"191.6\" y=\"-110.8\">a</text>\n",
       "</g>\n",
       "<!-- 4 -->\n",
       "<g class=\"node\" id=\"node6\">\n",
       "<title>4</title>\n",
       "<ellipse cx=\"328.6\" cy=\"-45\" fill=\"none\" rx=\"18\" ry=\"18\" stroke=\"#000000\"/>\n",
       "<ellipse cx=\"328.6\" cy=\"-45\" fill=\"none\" rx=\"22\" ry=\"22\" stroke=\"#000000\"/>\n",
       "<text fill=\"#000000\" font-family=\"Times,serif\" font-size=\"14.00\" text-anchor=\"middle\" x=\"328.6\" y=\"-41.3\">4</text>\n",
       "</g>\n",
       "<!-- 1&#45;&gt;4 -->\n",
       "<g class=\"edge\" id=\"edge7\">\n",
       "<title>1-&gt;4</title>\n",
       "<path d=\"M209.5104,-67.601C231.5369,-63.4207 269.3313,-56.2481 296.4392,-51.1035\" fill=\"none\" stroke=\"#000000\"/>\n",
       "<polygon fill=\"#000000\" points=\"297.4356,-54.477 306.6076,-49.1737 296.1303,-47.5997 297.4356,-54.477\" stroke=\"#000000\"/>\n",
       "<text fill=\"#000000\" font-family=\"Times,serif\" font-size=\"14.00\" text-anchor=\"middle\" x=\"245.6\" y=\"-66.8\">b</text>\n",
       "</g>\n",
       "<!-- 3 -->\n",
       "<g class=\"node\" id=\"node5\">\n",
       "<title>3</title>\n",
       "<ellipse cx=\"245.6\" cy=\"-18\" fill=\"none\" rx=\"18\" ry=\"18\" stroke=\"#000000\"/>\n",
       "<text fill=\"#000000\" font-family=\"Times,serif\" font-size=\"14.00\" text-anchor=\"middle\" x=\"245.6\" y=\"-14.3\">3</text>\n",
       "</g>\n",
       "<!-- 2&#45;&gt;3 -->\n",
       "<g class=\"edge\" id=\"edge4\">\n",
       "<title>2-&gt;3</title>\n",
       "<path d=\"M155.9207,-22.9822C172.779,-22.0456 198.0349,-20.6425 217.453,-19.5637\" fill=\"none\" stroke=\"#000000\"/>\n",
       "<polygon fill=\"#000000\" points=\"217.7594,-23.0522 227.5498,-19.0028 217.3711,-16.063 217.7594,-23.0522\" stroke=\"#000000\"/>\n",
       "<text fill=\"#000000\" font-family=\"Times,serif\" font-size=\"14.00\" text-anchor=\"middle\" x=\"191.6\" y=\"-25.8\">a</text>\n",
       "</g>\n",
       "<!-- 3&#45;&gt;4 -->\n",
       "<g class=\"edge\" id=\"edge5\">\n",
       "<title>3-&gt;4</title>\n",
       "<path d=\"M262.7977,-23.5944C272.9619,-26.9009 286.1293,-31.1842 298.0119,-35.0496\" fill=\"none\" stroke=\"#000000\"/>\n",
       "<polygon fill=\"#000000\" points=\"297.0047,-38.4025 307.5969,-38.1677 299.1702,-31.7458 297.0047,-38.4025\" stroke=\"#000000\"/>\n",
       "<text fill=\"#000000\" font-family=\"Times,serif\" font-size=\"14.00\" text-anchor=\"middle\" x=\"285.1\" y=\"-34.8\">b</text>\n",
       "</g>\n",
       "</g>\n",
       "</svg>"
      ],
      "text/plain": [
       "<IPython.core.display.SVG object>"
      ]
     },
     "metadata": {},
     "output_type": "display_data"
    },
    {
     "name": "stdout",
     "output_type": "stream",
     "text": [
      "False\n"
     ]
    }
   ],
   "source": [
    "r1 = str2regexp(\"aa*b + aab\")\n",
    "m1 = r1.toNFA()\n",
    "m1.display()\n",
    "\n",
    "print ambiguityTest.isUFA(m1)\n",
    "# print ambiguityTest.isFNFA_slow(m1)"
   ]
  },
  {
   "cell_type": "code",
   "execution_count": 3,
   "metadata": {},
   "outputs": [
    {
     "data": {
      "image/svg+xml": [
       "<svg height=\"81pt\" viewBox=\"0.00 0.00 250.60 81.00\" width=\"251pt\" xmlns=\"http://www.w3.org/2000/svg\" xmlns:xlink=\"http://www.w3.org/1999/xlink\">\n",
       "<g class=\"graph\" id=\"graph0\" transform=\"scale(1 1) rotate(0) translate(4 77)\">\n",
       "<title>finite_state_machine</title>\n",
       "<polygon fill=\"#ffffff\" points=\"-4,4 -4,-77 246.6,-77 246.6,4 -4,4\" stroke=\"transparent\"/>\n",
       "<!-- dummy0 -->\n",
       "<g class=\"node\" id=\"node1\">\n",
       "<title>dummy0</title>\n",
       "<ellipse cx=\"1.8\" cy=\"-22\" fill=\"#000000\" rx=\"1.8\" ry=\"1.8\" stroke=\"#000000\"/>\n",
       "</g>\n",
       "<!-- 0 -->\n",
       "<g class=\"node\" id=\"node2\">\n",
       "<title>0</title>\n",
       "<ellipse cx=\"58.6\" cy=\"-22\" fill=\"none\" rx=\"18\" ry=\"18\" stroke=\"#000000\"/>\n",
       "<text fill=\"#000000\" font-family=\"Times,serif\" font-size=\"14.00\" text-anchor=\"middle\" x=\"58.6\" y=\"-18.3\">0</text>\n",
       "</g>\n",
       "<!-- dummy0&#45;&gt;0 -->\n",
       "<g class=\"edge\" id=\"edge1\">\n",
       "<title>dummy0-&gt;0</title>\n",
       "<path d=\"M3.6898,-22C8.0522,-22 19.3107,-22 30.5058,-22\" fill=\"none\" stroke=\"#000000\"/>\n",
       "<polygon fill=\"#000000\" points=\"30.5696,-25.5001 40.5696,-22 30.5696,-18.5001 30.5696,-25.5001\" stroke=\"#000000\"/>\n",
       "</g>\n",
       "<!-- 1 -->\n",
       "<g class=\"node\" id=\"node3\">\n",
       "<title>1</title>\n",
       "<ellipse cx=\"137.6\" cy=\"-22\" fill=\"none\" rx=\"18\" ry=\"18\" stroke=\"#000000\"/>\n",
       "<text fill=\"#000000\" font-family=\"Times,serif\" font-size=\"14.00\" text-anchor=\"middle\" x=\"137.6\" y=\"-18.3\">1</text>\n",
       "</g>\n",
       "<!-- 0&#45;&gt;1 -->\n",
       "<g class=\"edge\" id=\"edge2\">\n",
       "<title>0-&gt;1</title>\n",
       "<path d=\"M76.9228,-22C86.4947,-22 98.4223,-22 109.1629,-22\" fill=\"none\" stroke=\"#000000\"/>\n",
       "<polygon fill=\"#000000\" points=\"109.3766,-25.5001 119.3766,-22 109.3766,-18.5001 109.3766,-25.5001\" stroke=\"#000000\"/>\n",
       "<text fill=\"#000000\" font-family=\"Times,serif\" font-size=\"14.00\" text-anchor=\"middle\" x=\"98.1\" y=\"-25.8\">a</text>\n",
       "</g>\n",
       "<!-- 1&#45;&gt;1 -->\n",
       "<g class=\"edge\" id=\"edge3\">\n",
       "<title>1-&gt;1</title>\n",
       "<path d=\"M130.8664,-39.0373C129.4922,-48.8579 131.7367,-58 137.6,-58 141.2646,-58 143.5155,-54.4289 144.3529,-49.3529\" fill=\"none\" stroke=\"#000000\"/>\n",
       "<polygon fill=\"#000000\" points=\"147.8524,-49.0307 144.3336,-39.0373 140.8524,-49.0439 147.8524,-49.0307\" stroke=\"#000000\"/>\n",
       "<text fill=\"#000000\" font-family=\"Times,serif\" font-size=\"14.00\" text-anchor=\"middle\" x=\"137.6\" y=\"-61.8\">a</text>\n",
       "</g>\n",
       "<!-- 2 -->\n",
       "<g class=\"node\" id=\"node4\">\n",
       "<title>2</title>\n",
       "<ellipse cx=\"220.6\" cy=\"-22\" fill=\"none\" rx=\"18\" ry=\"18\" stroke=\"#000000\"/>\n",
       "<ellipse cx=\"220.6\" cy=\"-22\" fill=\"none\" rx=\"22\" ry=\"22\" stroke=\"#000000\"/>\n",
       "<text fill=\"#000000\" font-family=\"Times,serif\" font-size=\"14.00\" text-anchor=\"middle\" x=\"220.6\" y=\"-18.3\">2</text>\n",
       "</g>\n",
       "<!-- 1&#45;&gt;2 -->\n",
       "<g class=\"edge\" id=\"edge4\">\n",
       "<title>1-&gt;2</title>\n",
       "<path d=\"M155.6098,-22C165.1483,-22 177.1554,-22 188.2456,-22\" fill=\"none\" stroke=\"#000000\"/>\n",
       "<polygon fill=\"#000000\" points=\"188.487,-25.5001 198.487,-22 188.4869,-18.5001 188.487,-25.5001\" stroke=\"#000000\"/>\n",
       "<text fill=\"#000000\" font-family=\"Times,serif\" font-size=\"14.00\" text-anchor=\"middle\" x=\"177.1\" y=\"-25.8\">b</text>\n",
       "</g>\n",
       "</g>\n",
       "</svg>"
      ],
      "text/plain": [
       "<IPython.core.display.SVG object>"
      ]
     },
     "metadata": {},
     "output_type": "display_data"
    },
    {
     "name": "stdout",
     "output_type": "stream",
     "text": [
      "True\n"
     ]
    }
   ],
   "source": [
    "r2 = str2regexp(\"aa*b\")\n",
    "m2 = r2.toNFA()\n",
    "m2.display()\n",
    "\n",
    "print ambiguityTest.isUFA(m2)\n",
    "# print ambiguityTest.isFNFA_slow(m2)"
   ]
  },
  {
   "cell_type": "code",
   "execution_count": 4,
   "metadata": {},
   "outputs": [
    {
     "data": {
      "image/svg+xml": [
       "<svg height=\"85pt\" viewBox=\"0.00 0.00 171.60 85.00\" width=\"172pt\" xmlns=\"http://www.w3.org/2000/svg\" xmlns:xlink=\"http://www.w3.org/1999/xlink\">\n",
       "<g class=\"graph\" id=\"graph0\" transform=\"scale(1 1) rotate(0) translate(4 81)\">\n",
       "<title>finite_state_machine</title>\n",
       "<polygon fill=\"#ffffff\" points=\"-4,4 -4,-81 167.6,-81 167.6,4 -4,4\" stroke=\"transparent\"/>\n",
       "<!-- dummy0 -->\n",
       "<g class=\"node\" id=\"node1\">\n",
       "<title>dummy0</title>\n",
       "<ellipse cx=\"1.8\" cy=\"-22\" fill=\"#000000\" rx=\"1.8\" ry=\"1.8\" stroke=\"#000000\"/>\n",
       "</g>\n",
       "<!-- 0 -->\n",
       "<g class=\"node\" id=\"node2\">\n",
       "<title>0</title>\n",
       "<ellipse cx=\"58.6\" cy=\"-22\" fill=\"none\" rx=\"18\" ry=\"18\" stroke=\"#000000\"/>\n",
       "<text fill=\"#000000\" font-family=\"Times,serif\" font-size=\"14.00\" text-anchor=\"middle\" x=\"58.6\" y=\"-18.3\">0</text>\n",
       "</g>\n",
       "<!-- dummy0&#45;&gt;0 -->\n",
       "<g class=\"edge\" id=\"edge1\">\n",
       "<title>dummy0-&gt;0</title>\n",
       "<path d=\"M3.6898,-22C8.0522,-22 19.3107,-22 30.5058,-22\" fill=\"none\" stroke=\"#000000\"/>\n",
       "<polygon fill=\"#000000\" points=\"30.5696,-25.5001 40.5696,-22 30.5696,-18.5001 30.5696,-25.5001\" stroke=\"#000000\"/>\n",
       "</g>\n",
       "<!-- 0&#45;&gt;0 -->\n",
       "<g class=\"edge\" id=\"edge2\">\n",
       "<title>0-&gt;0</title>\n",
       "<path d=\"M52.2208,-39.0373C50.9189,-48.8579 53.0453,-58 58.6,-58 62.0717,-58 64.2042,-54.4289 64.9975,-49.3529\" fill=\"none\" stroke=\"#000000\"/>\n",
       "<polygon fill=\"#000000\" points=\"68.4971,-49.031 64.9792,-39.0373 61.4971,-49.0435 68.4971,-49.031\" stroke=\"#000000\"/>\n",
       "<text fill=\"#000000\" font-family=\"Times,serif\" font-size=\"14.00\" text-anchor=\"middle\" x=\"58.6\" y=\"-61.8\">b</text>\n",
       "</g>\n",
       "<!-- 1 -->\n",
       "<g class=\"node\" id=\"node3\">\n",
       "<title>1</title>\n",
       "<ellipse cx=\"141.6\" cy=\"-22\" fill=\"none\" rx=\"18\" ry=\"18\" stroke=\"#000000\"/>\n",
       "<ellipse cx=\"141.6\" cy=\"-22\" fill=\"none\" rx=\"22\" ry=\"22\" stroke=\"#000000\"/>\n",
       "<text fill=\"#000000\" font-family=\"Times,serif\" font-size=\"14.00\" text-anchor=\"middle\" x=\"141.6\" y=\"-18.3\">1</text>\n",
       "</g>\n",
       "<!-- 0&#45;&gt;1 -->\n",
       "<g class=\"edge\" id=\"edge3\">\n",
       "<title>0-&gt;1</title>\n",
       "<path d=\"M76.6098,-22C86.1483,-22 98.1554,-22 109.2456,-22\" fill=\"none\" stroke=\"#000000\"/>\n",
       "<polygon fill=\"#000000\" points=\"109.487,-25.5001 119.487,-22 109.4869,-18.5001 109.487,-25.5001\" stroke=\"#000000\"/>\n",
       "<text fill=\"#000000\" font-family=\"Times,serif\" font-size=\"14.00\" text-anchor=\"middle\" x=\"98.1\" y=\"-25.8\">b</text>\n",
       "</g>\n",
       "<!-- 1&#45;&gt;1 -->\n",
       "<g class=\"edge\" id=\"edge4\">\n",
       "<title>1-&gt;1</title>\n",
       "<path d=\"M133.9173,-42.9908C132.9688,-53.0872 135.5297,-62 141.6,-62 145.4888,-62 147.9373,-58.3422 148.9456,-53.0587\" fill=\"none\" stroke=\"#000000\"/>\n",
       "<polygon fill=\"#000000\" points=\"152.446,-53.1023 149.2827,-42.9908 145.4499,-52.868 152.446,-53.1023\" stroke=\"#000000\"/>\n",
       "<text fill=\"#000000\" font-family=\"Times,serif\" font-size=\"14.00\" text-anchor=\"middle\" x=\"141.6\" y=\"-65.8\">a, b</text>\n",
       "</g>\n",
       "</g>\n",
       "</svg>"
      ],
      "text/plain": [
       "<IPython.core.display.SVG object>"
      ]
     },
     "metadata": {},
     "output_type": "display_data"
    },
    {
     "name": "stdout",
     "output_type": "stream",
     "text": [
      "False\n"
     ]
    }
   ],
   "source": [
    "r3 = str2regexp(\"b*b(a+b)*\")\n",
    "m3 = r3.toNFA()\n",
    "m3.display()\n",
    "\n",
    "print ambiguityTest.isUFA(m3)\n",
    "# print ambiguityTest.isFNFA_slow(m3)"
   ]
  },
  {
   "cell_type": "code",
   "execution_count": 14,
   "metadata": {},
   "outputs": [
    {
     "data": {
      "image/svg+xml": [
       "<svg height=\"85pt\" viewBox=\"0.00 0.00 171.60 85.00\" width=\"172pt\" xmlns=\"http://www.w3.org/2000/svg\" xmlns:xlink=\"http://www.w3.org/1999/xlink\">\n",
       "<g class=\"graph\" id=\"graph0\" transform=\"scale(1 1) rotate(0) translate(4 81)\">\n",
       "<title>finite_state_machine</title>\n",
       "<polygon fill=\"#ffffff\" points=\"-4,4 -4,-81 167.6,-81 167.6,4 -4,4\" stroke=\"transparent\"/>\n",
       "<!-- dummy0 -->\n",
       "<g class=\"node\" id=\"node1\">\n",
       "<title>dummy0</title>\n",
       "<ellipse cx=\"1.8\" cy=\"-22\" fill=\"#000000\" rx=\"1.8\" ry=\"1.8\" stroke=\"#000000\"/>\n",
       "</g>\n",
       "<!-- 0 -->\n",
       "<g class=\"node\" id=\"node2\">\n",
       "<title>0</title>\n",
       "<ellipse cx=\"58.6\" cy=\"-22\" fill=\"none\" rx=\"18\" ry=\"18\" stroke=\"#000000\"/>\n",
       "<text fill=\"#000000\" font-family=\"Times,serif\" font-size=\"14.00\" text-anchor=\"middle\" x=\"58.6\" y=\"-18.3\">0</text>\n",
       "</g>\n",
       "<!-- dummy0&#45;&gt;0 -->\n",
       "<g class=\"edge\" id=\"edge1\">\n",
       "<title>dummy0-&gt;0</title>\n",
       "<path d=\"M3.6898,-22C8.0522,-22 19.3107,-22 30.5058,-22\" fill=\"none\" stroke=\"#000000\"/>\n",
       "<polygon fill=\"#000000\" points=\"30.5696,-25.5001 40.5696,-22 30.5696,-18.5001 30.5696,-25.5001\" stroke=\"#000000\"/>\n",
       "</g>\n",
       "<!-- 0&#45;&gt;0 -->\n",
       "<g class=\"edge\" id=\"edge2\">\n",
       "<title>0-&gt;0</title>\n",
       "<path d=\"M52.2208,-39.0373C50.9189,-48.8579 53.0453,-58 58.6,-58 62.0717,-58 64.2042,-54.4289 64.9975,-49.3529\" fill=\"none\" stroke=\"#000000\"/>\n",
       "<polygon fill=\"#000000\" points=\"68.4971,-49.031 64.9792,-39.0373 61.4971,-49.0435 68.4971,-49.031\" stroke=\"#000000\"/>\n",
       "<text fill=\"#000000\" font-family=\"Times,serif\" font-size=\"14.00\" text-anchor=\"middle\" x=\"58.6\" y=\"-61.8\">a, b</text>\n",
       "</g>\n",
       "<!-- 1 -->\n",
       "<g class=\"node\" id=\"node3\">\n",
       "<title>1</title>\n",
       "<ellipse cx=\"141.6\" cy=\"-22\" fill=\"none\" rx=\"18\" ry=\"18\" stroke=\"#000000\"/>\n",
       "<ellipse cx=\"141.6\" cy=\"-22\" fill=\"none\" rx=\"22\" ry=\"22\" stroke=\"#000000\"/>\n",
       "<text fill=\"#000000\" font-family=\"Times,serif\" font-size=\"14.00\" text-anchor=\"middle\" x=\"141.6\" y=\"-18.3\">1</text>\n",
       "</g>\n",
       "<!-- 0&#45;&gt;1 -->\n",
       "<g class=\"edge\" id=\"edge3\">\n",
       "<title>0-&gt;1</title>\n",
       "<path d=\"M76.6098,-22C86.1483,-22 98.1554,-22 109.2456,-22\" fill=\"none\" stroke=\"#000000\"/>\n",
       "<polygon fill=\"#000000\" points=\"109.487,-25.5001 119.487,-22 109.4869,-18.5001 109.487,-25.5001\" stroke=\"#000000\"/>\n",
       "<text fill=\"#000000\" font-family=\"Times,serif\" font-size=\"14.00\" text-anchor=\"middle\" x=\"98.1\" y=\"-25.8\">b</text>\n",
       "</g>\n",
       "<!-- 1&#45;&gt;1 -->\n",
       "<g class=\"edge\" id=\"edge4\">\n",
       "<title>1-&gt;1</title>\n",
       "<path d=\"M133.9173,-42.9908C132.9688,-53.0872 135.5297,-62 141.6,-62 145.4888,-62 147.9373,-58.3422 148.9456,-53.0587\" fill=\"none\" stroke=\"#000000\"/>\n",
       "<polygon fill=\"#000000\" points=\"152.446,-53.1023 149.2827,-42.9908 145.4499,-52.868 152.446,-53.1023\" stroke=\"#000000\"/>\n",
       "<text fill=\"#000000\" font-family=\"Times,serif\" font-size=\"14.00\" text-anchor=\"middle\" x=\"141.6\" y=\"-65.8\">a</text>\n",
       "</g>\n",
       "</g>\n",
       "</svg>"
      ],
      "text/plain": [
       "<IPython.core.display.SVG object>"
      ]
     },
     "metadata": {},
     "output_type": "display_data"
    },
    {
     "name": "stdout",
     "output_type": "stream",
     "text": [
      "True\n"
     ]
    },
    {
     "data": {
      "text/plain": [
       "['b',\n",
       " 'ab',\n",
       " 'ba',\n",
       " 'bb',\n",
       " 'aab',\n",
       " 'aba',\n",
       " 'abb',\n",
       " 'baa',\n",
       " 'bab',\n",
       " 'bba',\n",
       " 'bbb',\n",
       " 'aaab',\n",
       " 'aaba',\n",
       " 'aabb',\n",
       " 'abaa',\n",
       " 'abab',\n",
       " 'abba',\n",
       " 'abbb',\n",
       " 'baaa',\n",
       " 'baab',\n",
       " 'baba',\n",
       " 'babb',\n",
       " 'bbaa',\n",
       " 'bbab',\n",
       " 'bbba',\n",
       " 'bbbb',\n",
       " 'aaaab',\n",
       " 'aaaba',\n",
       " 'aaabb',\n",
       " 'aabaa',\n",
       " 'aabab',\n",
       " 'aabba',\n",
       " 'aabbb',\n",
       " 'abaaa',\n",
       " 'abaab',\n",
       " 'ababa',\n",
       " 'ababb',\n",
       " 'abbaa',\n",
       " 'abbab',\n",
       " 'abbba',\n",
       " 'abbbb',\n",
       " 'baaaa',\n",
       " 'baaab',\n",
       " 'baaba',\n",
       " 'baabb',\n",
       " 'babaa',\n",
       " 'babab',\n",
       " 'babba',\n",
       " 'babbb',\n",
       " 'bbaaa',\n",
       " 'bbaab',\n",
       " 'bbaba',\n",
       " 'bbabb',\n",
       " 'bbbaa',\n",
       " 'bbbab',\n",
       " 'bbbba',\n",
       " 'bbbbb']"
      ]
     },
     "execution_count": 14,
     "metadata": {},
     "output_type": "execute_result"
    }
   ],
   "source": [
    "r4 = str2regexp(\"(a+b)*ba*\")\n",
    "m4 = r4.toNFA()\n",
    "m4.display()\n",
    "\n",
    "print ambiguityTest.isUFA(m4)\n",
    "# m4.enumNFA(5)\n",
    "# print ambiguityTest.isFNFA_slow(m4)"
   ]
  },
  {
   "cell_type": "code",
   "execution_count": 6,
   "metadata": {},
   "outputs": [],
   "source": [
    "gen = reStringRGenerator(smallAlphabet(5),100,reGrammar['g_rpn'])"
   ]
  },
  {
   "cell_type": "code",
   "execution_count": 13,
   "metadata": {},
   "outputs": [
    {
     "name": "stdout",
     "output_type": "stream",
     "text": [
      "+@epsilon+...e+ae.+.@epsilon.ad*@epsilon.d.++@epsilone*e+@epsilon+*...*.a...+@epsilon.+b*@epsilon*da+*e+de+ad.+c+++e@epsilon+e*d+.ed.d*de@epsilonad.+.@epsilona.+.bd*d@epsilon@epsilon*c\n",
      "24\n",
      "False\n"
     ]
    }
   ],
   "source": [
    "s = gen.generate()\n",
    "print s\n",
    "r = str2regexp(s,parser=ParserRPN)\n",
    "m = r.toNFA()\n",
    "print len(m.States)\n",
    "print ambiguityTest.isUFA(m)"
   ]
  },
  {
   "cell_type": "code",
   "execution_count": null,
   "metadata": {},
   "outputs": [],
   "source": []
  },
  {
   "cell_type": "code",
   "execution_count": null,
   "metadata": {},
   "outputs": [],
   "source": []
  }
 ],
 "metadata": {
  "kernelspec": {
   "display_name": "Python 2",
   "language": "python",
   "name": "python2"
  },
  "language_info": {
   "codemirror_mode": {
    "name": "ipython",
    "version": 2
   },
   "file_extension": ".py",
   "mimetype": "text/x-python",
   "name": "python",
   "nbconvert_exporter": "python",
   "pygments_lexer": "ipython2",
   "version": "2.7.13"
  }
 },
 "nbformat": 4,
 "nbformat_minor": 2
}
