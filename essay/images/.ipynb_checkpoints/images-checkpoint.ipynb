{
 "cells": [
  {
   "cell_type": "code",
   "execution_count": 6,
   "metadata": {},
   "outputs": [],
   "source": [
    "from FAdo.fa import *\n",
    "from FAdo.reex import *"
   ]
  },
  {
   "cell_type": "code",
   "execution_count": 12,
   "metadata": {
    "scrolled": true
   },
   "outputs": [
    {
     "data": {
      "image/svg+xml": [
       "<svg height=\"87pt\" viewBox=\"0.00 0.00 94.30 86.70\" width=\"94pt\" xmlns=\"http://www.w3.org/2000/svg\" xmlns:xlink=\"http://www.w3.org/1999/xlink\">\n",
       "<g class=\"graph\" id=\"graph0\" transform=\"scale(1 1) rotate(0) translate(4 82.6967)\">\n",
       "<title>finite_state_machine</title>\n",
       "<polygon fill=\"#ffffff\" points=\"-4,4 -4,-82.6967 90.2967,-82.6967 90.2967,4 -4,4\" stroke=\"transparent\"/>\n",
       "<!-- dummya* -->\n",
       "<g class=\"node\" id=\"node1\">\n",
       "<title>dummya*</title>\n",
       "<ellipse cx=\"1.8\" cy=\"-22.8483\" fill=\"#000000\" rx=\"1.8\" ry=\"1.8\" stroke=\"#000000\"/>\n",
       "</g>\n",
       "<!-- a* -->\n",
       "<g class=\"node\" id=\"node2\">\n",
       "<title>a*</title>\n",
       "<ellipse cx=\"63.4483\" cy=\"-22.8483\" fill=\"none\" rx=\"18.724\" ry=\"18.724\" stroke=\"#000000\"/>\n",
       "<ellipse cx=\"63.4483\" cy=\"-22.8483\" fill=\"none\" rx=\"22.6977\" ry=\"22.6977\" stroke=\"#000000\"/>\n",
       "<text fill=\"#000000\" font-family=\"Times,serif\" font-size=\"14.00\" text-anchor=\"middle\" x=\"63.4483\" y=\"-19.1483\">a*</text>\n",
       "</g>\n",
       "<!-- dummya*&#45;&gt;a* -->\n",
       "<g class=\"edge\" id=\"edge1\">\n",
       "<title>dummya*-&gt;a*</title>\n",
       "<path d=\"M3.8512,-22.8483C8.234,-22.8483 19.0303,-22.8483 30.2488,-22.8483\" fill=\"none\" stroke=\"#000000\"/>\n",
       "<polygon fill=\"#000000\" points=\"30.4983,-26.3484 40.4982,-22.8483 30.4982,-19.3484 30.4983,-26.3484\" stroke=\"#000000\"/>\n",
       "</g>\n",
       "<!-- a*&#45;&gt;a* -->\n",
       "<g class=\"edge\" id=\"edge2\">\n",
       "<title>a*-&gt;a*</title>\n",
       "<path d=\"M56.0966,-44.7016C55.2946,-54.8392 57.7452,-63.6967 63.4483,-63.6967 67.1019,-63.6967 69.4206,-60.0616 70.4045,-54.7835\" fill=\"none\" stroke=\"#000000\"/>\n",
       "<polygon fill=\"#000000\" points=\"73.9052,-54.8311 70.8,-44.7016 66.9106,-54.5566 73.9052,-54.8311\" stroke=\"#000000\"/>\n",
       "<text fill=\"#000000\" font-family=\"Times,serif\" font-size=\"14.00\" text-anchor=\"middle\" x=\"63.4483\" y=\"-67.4967\">a</text>\n",
       "</g>\n",
       "</g>\n",
       "</svg>"
      ],
      "text/plain": [
       "<IPython.core.display.SVG object>"
      ]
     },
     "metadata": {},
     "output_type": "display_data"
    }
   ],
   "source": [
    "r1 = str2regexp(\"a*\")\n",
    "m1 = r1.toNFA()\n",
    "m1.display(strict = False)"
   ]
  },
  {
   "cell_type": "code",
   "execution_count": 16,
   "metadata": {},
   "outputs": [
    {
     "data": {
      "image/svg+xml": [
       "<svg height=\"114pt\" viewBox=\"0.00 0.00 171.60 114.00\" width=\"172pt\" xmlns=\"http://www.w3.org/2000/svg\" xmlns:xlink=\"http://www.w3.org/1999/xlink\">\n",
       "<g class=\"graph\" id=\"graph0\" transform=\"scale(1 1) rotate(0) translate(4 110)\">\n",
       "<title>finite_state_machine</title>\n",
       "<polygon fill=\"#ffffff\" points=\"-4,4 -4,-110 167.6,-110 167.6,4 -4,4\" stroke=\"transparent\"/>\n",
       "<!-- dummy0 -->\n",
       "<g class=\"node\" id=\"node1\">\n",
       "<title>dummy0</title>\n",
       "<ellipse cx=\"1.8\" cy=\"-53\" fill=\"#000000\" rx=\"1.8\" ry=\"1.8\" stroke=\"#000000\"/>\n",
       "</g>\n",
       "<!-- 0 -->\n",
       "<g class=\"node\" id=\"node2\">\n",
       "<title>0</title>\n",
       "<ellipse cx=\"58.6\" cy=\"-53\" fill=\"none\" rx=\"18\" ry=\"18\" stroke=\"#000000\"/>\n",
       "<text fill=\"#000000\" font-family=\"Times,serif\" font-size=\"14.00\" text-anchor=\"middle\" x=\"58.6\" y=\"-49.3\">0</text>\n",
       "</g>\n",
       "<!-- dummy0&#45;&gt;0 -->\n",
       "<g class=\"edge\" id=\"edge1\">\n",
       "<title>dummy0-&gt;0</title>\n",
       "<path d=\"M3.6898,-53C8.0522,-53 19.3107,-53 30.5058,-53\" fill=\"none\" stroke=\"#000000\"/>\n",
       "<polygon fill=\"#000000\" points=\"30.5696,-56.5001 40.5696,-53 30.5696,-49.5001 30.5696,-56.5001\" stroke=\"#000000\"/>\n",
       "</g>\n",
       "<!-- 1 -->\n",
       "<g class=\"node\" id=\"node3\">\n",
       "<title>1</title>\n",
       "<ellipse cx=\"141.6\" cy=\"-84\" fill=\"none\" rx=\"18\" ry=\"18\" stroke=\"#000000\"/>\n",
       "<ellipse cx=\"141.6\" cy=\"-84\" fill=\"none\" rx=\"22\" ry=\"22\" stroke=\"#000000\"/>\n",
       "<text fill=\"#000000\" font-family=\"Times,serif\" font-size=\"14.00\" text-anchor=\"middle\" x=\"141.6\" y=\"-80.3\">1</text>\n",
       "</g>\n",
       "<!-- 0&#45;&gt;1 -->\n",
       "<g class=\"edge\" id=\"edge2\">\n",
       "<title>0-&gt;1</title>\n",
       "<path d=\"M75.7977,-59.4232C86.0361,-63.2472 99.3217,-68.2093 111.2719,-72.6726\" fill=\"none\" stroke=\"#000000\"/>\n",
       "<polygon fill=\"#000000\" points=\"110.3072,-76.0484 120.8998,-76.2686 112.7564,-69.4909 110.3072,-76.0484\" stroke=\"#000000\"/>\n",
       "<text fill=\"#000000\" font-family=\"Times,serif\" font-size=\"14.00\" text-anchor=\"middle\" x=\"98.1\" y=\"-71.8\">a</text>\n",
       "</g>\n",
       "<!-- 2 -->\n",
       "<g class=\"node\" id=\"node4\">\n",
       "<title>2</title>\n",
       "<ellipse cx=\"141.6\" cy=\"-22\" fill=\"none\" rx=\"18\" ry=\"18\" stroke=\"#000000\"/>\n",
       "<ellipse cx=\"141.6\" cy=\"-22\" fill=\"none\" rx=\"22\" ry=\"22\" stroke=\"#000000\"/>\n",
       "<text fill=\"#000000\" font-family=\"Times,serif\" font-size=\"14.00\" text-anchor=\"middle\" x=\"141.6\" y=\"-18.3\">2</text>\n",
       "</g>\n",
       "<!-- 0&#45;&gt;2 -->\n",
       "<g class=\"edge\" id=\"edge3\">\n",
       "<title>0-&gt;2</title>\n",
       "<path d=\"M75.7977,-46.5768C86.0361,-42.7528 99.3217,-37.7907 111.2719,-33.3274\" fill=\"none\" stroke=\"#000000\"/>\n",
       "<polygon fill=\"#000000\" points=\"112.7564,-36.5091 120.8998,-29.7314 110.3072,-29.9516 112.7564,-36.5091\" stroke=\"#000000\"/>\n",
       "<text fill=\"#000000\" font-family=\"Times,serif\" font-size=\"14.00\" text-anchor=\"middle\" x=\"98.1\" y=\"-42.8\">a</text>\n",
       "</g>\n",
       "</g>\n",
       "</svg>"
      ],
      "text/plain": [
       "<IPython.core.display.SVG object>"
      ]
     },
     "metadata": {},
     "output_type": "display_data"
    }
   ],
   "source": [
    "m2 = NFA()\n",
    "\n",
    "nStates = 3\n",
    "initial = [0]\n",
    "final = [1,2]\n",
    "\n",
    "transitions = [(0,'a',1),(0,'a',2)]\n",
    "\n",
    "for i in range(0,nStates): m2.addState()\n",
    "for i in initial: m2.addInitial(i)\n",
    "for i in final: m2.addFinal(i)\n",
    "\n",
    "for (s1,x,s2) in transitions: m2.addTransition(s1,x,s2)\n",
    "\n",
    "m2.display(strict = False)"
   ]
  }
 ],
 "metadata": {
  "kernelspec": {
   "display_name": "Python 2",
   "language": "python",
   "name": "python2"
  },
  "language_info": {
   "codemirror_mode": {
    "name": "ipython",
    "version": 2
   },
   "file_extension": ".py",
   "mimetype": "text/x-python",
   "name": "python",
   "nbconvert_exporter": "python",
   "pygments_lexer": "ipython2",
   "version": "2.7.13"
  }
 },
 "nbformat": 4,
 "nbformat_minor": 2
}
