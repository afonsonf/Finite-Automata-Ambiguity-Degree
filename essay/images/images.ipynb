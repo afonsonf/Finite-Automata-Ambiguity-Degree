{
 "cells": [
  {
   "cell_type": "code",
   "execution_count": 6,
   "metadata": {},
   "outputs": [],
   "source": [
    "from FAdo.fa import *\n",
    "from FAdo.reex import *"
   ]
  },
  {
   "cell_type": "code",
   "execution_count": 20,
   "metadata": {
    "scrolled": true
   },
   "outputs": [
    {
     "data": {
      "image/svg+xml": [
       "<svg height=\"85pt\" viewBox=\"0.00 0.00 92.60 85.00\" width=\"93pt\" xmlns=\"http://www.w3.org/2000/svg\" xmlns:xlink=\"http://www.w3.org/1999/xlink\">\n",
       "<g class=\"graph\" id=\"graph0\" transform=\"scale(1 1) rotate(0) translate(4 81)\">\n",
       "<title>finite_state_machine</title>\n",
       "<polygon fill=\"#ffffff\" points=\"-4,4 -4,-81 88.6,-81 88.6,4 -4,4\" stroke=\"transparent\"/>\n",
       "<!-- dummy0 -->\n",
       "<g class=\"node\" id=\"node1\">\n",
       "<title>dummy0</title>\n",
       "<ellipse cx=\"1.8\" cy=\"-22\" fill=\"#000000\" rx=\"1.8\" ry=\"1.8\" stroke=\"#000000\"/>\n",
       "</g>\n",
       "<!-- 0 -->\n",
       "<g class=\"node\" id=\"node2\">\n",
       "<title>0</title>\n",
       "<ellipse cx=\"62.6\" cy=\"-22\" fill=\"none\" rx=\"18\" ry=\"18\" stroke=\"#000000\"/>\n",
       "<ellipse cx=\"62.6\" cy=\"-22\" fill=\"none\" rx=\"22\" ry=\"22\" stroke=\"#000000\"/>\n",
       "<text fill=\"#000000\" font-family=\"Times,serif\" font-size=\"14.00\" text-anchor=\"middle\" x=\"62.6\" y=\"-18.3\">0</text>\n",
       "</g>\n",
       "<!-- dummy0&#45;&gt;0 -->\n",
       "<g class=\"edge\" id=\"edge1\">\n",
       "<title>dummy0-&gt;0</title>\n",
       "<path d=\"M3.8229,-22C8.2086,-22 19.1055,-22 30.3421,-22\" fill=\"none\" stroke=\"#000000\"/>\n",
       "<polygon fill=\"#000000\" points=\"30.58,-25.5001 40.58,-22 30.5799,-18.5001 30.58,-25.5001\" stroke=\"#000000\"/>\n",
       "</g>\n",
       "<!-- 0&#45;&gt;0 -->\n",
       "<g class=\"edge\" id=\"edge2\">\n",
       "<title>0-&gt;0</title>\n",
       "<path d=\"M55.2831,-42.9908C54.3798,-53.0872 56.8188,-62 62.6,-62 66.3036,-62 68.6356,-58.3422 69.5958,-53.0587\" fill=\"none\" stroke=\"#000000\"/>\n",
       "<polygon fill=\"#000000\" points=\"73.0963,-53.0973 69.9169,-42.9908 66.0998,-52.8741 73.0963,-53.0973\" stroke=\"#000000\"/>\n",
       "<text fill=\"#000000\" font-family=\"Times,serif\" font-size=\"14.00\" text-anchor=\"middle\" x=\"62.6\" y=\"-65.8\">a</text>\n",
       "</g>\n",
       "</g>\n",
       "</svg>"
      ],
      "text/plain": [
       "<IPython.core.display.SVG object>"
      ]
     },
     "metadata": {},
     "output_type": "display_data"
    }
   ],
   "source": [
    "r1 = str2regexp(\"a*\")\n",
    "m1 = r1.toNFA()\n",
    "m1.renameStates()\n",
    "m1.display()"
   ]
  },
  {
   "cell_type": "code",
   "execution_count": 23,
   "metadata": {},
   "outputs": [
    {
     "data": {
      "image/svg+xml": [
       "<svg height=\"180pt\" viewBox=\"0.00 0.00 171.60 180.00\" width=\"172pt\" xmlns=\"http://www.w3.org/2000/svg\" xmlns:xlink=\"http://www.w3.org/1999/xlink\">\n",
       "<g class=\"graph\" id=\"graph0\" transform=\"scale(1 1) rotate(0) translate(4 176)\">\n",
       "<title>finite_state_machine</title>\n",
       "<polygon fill=\"#ffffff\" points=\"-4,4 -4,-176 167.6,-176 167.6,4 -4,4\" stroke=\"transparent\"/>\n",
       "<!-- dummy0 -->\n",
       "<g class=\"node\" id=\"node1\">\n",
       "<title>dummy0</title>\n",
       "<ellipse cx=\"1.8\" cy=\"-69\" fill=\"#000000\" rx=\"1.8\" ry=\"1.8\" stroke=\"#000000\"/>\n",
       "</g>\n",
       "<!-- 0 -->\n",
       "<g class=\"node\" id=\"node2\">\n",
       "<title>0</title>\n",
       "<ellipse cx=\"58.6\" cy=\"-69\" fill=\"none\" rx=\"18\" ry=\"18\" stroke=\"#000000\"/>\n",
       "<text fill=\"#000000\" font-family=\"Times,serif\" font-size=\"14.00\" text-anchor=\"middle\" x=\"58.6\" y=\"-65.3\">0</text>\n",
       "</g>\n",
       "<!-- dummy0&#45;&gt;0 -->\n",
       "<g class=\"edge\" id=\"edge1\">\n",
       "<title>dummy0-&gt;0</title>\n",
       "<path d=\"M3.6898,-69C8.0522,-69 19.3107,-69 30.5058,-69\" fill=\"none\" stroke=\"#000000\"/>\n",
       "<polygon fill=\"#000000\" points=\"30.5696,-72.5001 40.5696,-69 30.5696,-65.5001 30.5696,-72.5001\" stroke=\"#000000\"/>\n",
       "</g>\n",
       "<!-- 1 -->\n",
       "<g class=\"node\" id=\"node3\">\n",
       "<title>1</title>\n",
       "<ellipse cx=\"141.6\" cy=\"-117\" fill=\"none\" rx=\"18\" ry=\"18\" stroke=\"#000000\"/>\n",
       "<ellipse cx=\"141.6\" cy=\"-117\" fill=\"none\" rx=\"22\" ry=\"22\" stroke=\"#000000\"/>\n",
       "<text fill=\"#000000\" font-family=\"Times,serif\" font-size=\"14.00\" text-anchor=\"middle\" x=\"141.6\" y=\"-113.3\">1</text>\n",
       "</g>\n",
       "<!-- 0&#45;&gt;1 -->\n",
       "<g class=\"edge\" id=\"edge2\">\n",
       "<title>0-&gt;1</title>\n",
       "<path d=\"M74.2117,-78.0284C85.2764,-84.4273 100.4291,-93.1903 113.5638,-100.7863\" fill=\"none\" stroke=\"#000000\"/>\n",
       "<polygon fill=\"#000000\" points=\"111.8508,-103.8388 122.2597,-105.8152 115.3552,-97.7791 111.8508,-103.8388\" stroke=\"#000000\"/>\n",
       "<text fill=\"#000000\" font-family=\"Times,serif\" font-size=\"14.00\" text-anchor=\"middle\" x=\"98.1\" y=\"-96.8\">a</text>\n",
       "</g>\n",
       "<!-- 2 -->\n",
       "<g class=\"node\" id=\"node4\">\n",
       "<title>2</title>\n",
       "<ellipse cx=\"141.6\" cy=\"-22\" fill=\"none\" rx=\"18\" ry=\"18\" stroke=\"#000000\"/>\n",
       "<ellipse cx=\"141.6\" cy=\"-22\" fill=\"none\" rx=\"22\" ry=\"22\" stroke=\"#000000\"/>\n",
       "<text fill=\"#000000\" font-family=\"Times,serif\" font-size=\"14.00\" text-anchor=\"middle\" x=\"141.6\" y=\"-18.3\">2</text>\n",
       "</g>\n",
       "<!-- 0&#45;&gt;2 -->\n",
       "<g class=\"edge\" id=\"edge3\">\n",
       "<title>0-&gt;2</title>\n",
       "<path d=\"M74.6032,-59.9379C85.5961,-53.713 100.4859,-45.2815 113.4368,-37.9479\" fill=\"none\" stroke=\"#000000\"/>\n",
       "<polygon fill=\"#000000\" points=\"115.4638,-40.8223 122.4409,-32.8491 112.0145,-34.7311 115.4638,-40.8223\" stroke=\"#000000\"/>\n",
       "<text fill=\"#000000\" font-family=\"Times,serif\" font-size=\"14.00\" text-anchor=\"middle\" x=\"98.1\" y=\"-51.8\">a</text>\n",
       "</g>\n",
       "<!-- 1&#45;&gt;1 -->\n",
       "<g class=\"edge\" id=\"edge4\">\n",
       "<title>1-&gt;1</title>\n",
       "<path d=\"M133.9173,-137.9908C132.9688,-148.0872 135.5297,-157 141.6,-157 145.4888,-157 147.9373,-153.3422 148.9456,-148.0587\" fill=\"none\" stroke=\"#000000\"/>\n",
       "<polygon fill=\"#000000\" points=\"152.446,-148.1023 149.2827,-137.9908 145.4499,-147.868 152.446,-148.1023\" stroke=\"#000000\"/>\n",
       "<text fill=\"#000000\" font-family=\"Times,serif\" font-size=\"14.00\" text-anchor=\"middle\" x=\"141.6\" y=\"-160.8\">a</text>\n",
       "</g>\n",
       "<!-- 2&#45;&gt;2 -->\n",
       "<g class=\"edge\" id=\"edge5\">\n",
       "<title>2-&gt;2</title>\n",
       "<path d=\"M133.9173,-42.9908C132.9688,-53.0872 135.5297,-62 141.6,-62 145.4888,-62 147.9373,-58.3422 148.9456,-53.0587\" fill=\"none\" stroke=\"#000000\"/>\n",
       "<polygon fill=\"#000000\" points=\"152.446,-53.1023 149.2827,-42.9908 145.4499,-52.868 152.446,-53.1023\" stroke=\"#000000\"/>\n",
       "<text fill=\"#000000\" font-family=\"Times,serif\" font-size=\"14.00\" text-anchor=\"middle\" x=\"141.6\" y=\"-65.8\">a</text>\n",
       "</g>\n",
       "</g>\n",
       "</svg>"
      ],
      "text/plain": [
       "<IPython.core.display.SVG object>"
      ]
     },
     "metadata": {},
     "output_type": "display_data"
    }
   ],
   "source": [
    "m2 = NFA()\n",
    "\n",
    "nStates = 3\n",
    "initial = [0]\n",
    "final = [1,2]\n",
    "\n",
    "transitions = [(0,'a',1),(0,'a',2),(1,'a',1),(2,'a',2)]\n",
    "\n",
    "for i in range(0,nStates): m2.addState()\n",
    "for i in initial: m2.addInitial(i)\n",
    "for i in final: m2.addFinal(i)\n",
    "\n",
    "for (s1,x,s2) in transitions: m2.addTransition(s1,x,s2)\n",
    "m2.renameStates()\n",
    "m2.display()"
   ]
  },
  {
   "cell_type": "code",
   "execution_count": 26,
   "metadata": {},
   "outputs": [
    {
     "data": {
      "image/svg+xml": [
       "<svg height=\"85pt\" viewBox=\"0.00 0.00 171.60 85.00\" width=\"172pt\" xmlns=\"http://www.w3.org/2000/svg\" xmlns:xlink=\"http://www.w3.org/1999/xlink\">\n",
       "<g class=\"graph\" id=\"graph0\" transform=\"scale(1 1) rotate(0) translate(4 81)\">\n",
       "<title>finite_state_machine</title>\n",
       "<polygon fill=\"#ffffff\" points=\"-4,4 -4,-81 167.6,-81 167.6,4 -4,4\" stroke=\"transparent\"/>\n",
       "<!-- dummy0 -->\n",
       "<g class=\"node\" id=\"node1\">\n",
       "<title>dummy0</title>\n",
       "<ellipse cx=\"1.8\" cy=\"-22\" fill=\"#000000\" rx=\"1.8\" ry=\"1.8\" stroke=\"#000000\"/>\n",
       "</g>\n",
       "<!-- 0 -->\n",
       "<g class=\"node\" id=\"node2\">\n",
       "<title>0</title>\n",
       "<ellipse cx=\"58.6\" cy=\"-22\" fill=\"none\" rx=\"18\" ry=\"18\" stroke=\"#000000\"/>\n",
       "<text fill=\"#000000\" font-family=\"Times,serif\" font-size=\"14.00\" text-anchor=\"middle\" x=\"58.6\" y=\"-18.3\">0</text>\n",
       "</g>\n",
       "<!-- dummy0&#45;&gt;0 -->\n",
       "<g class=\"edge\" id=\"edge1\">\n",
       "<title>dummy0-&gt;0</title>\n",
       "<path d=\"M3.6898,-22C8.0522,-22 19.3107,-22 30.5058,-22\" fill=\"none\" stroke=\"#000000\"/>\n",
       "<polygon fill=\"#000000\" points=\"30.5696,-25.5001 40.5696,-22 30.5696,-18.5001 30.5696,-25.5001\" stroke=\"#000000\"/>\n",
       "</g>\n",
       "<!-- 0&#45;&gt;0 -->\n",
       "<g class=\"edge\" id=\"edge2\">\n",
       "<title>0-&gt;0</title>\n",
       "<path d=\"M52.2208,-39.0373C50.9189,-48.8579 53.0453,-58 58.6,-58 62.0717,-58 64.2042,-54.4289 64.9975,-49.3529\" fill=\"none\" stroke=\"#000000\"/>\n",
       "<polygon fill=\"#000000\" points=\"68.4971,-49.031 64.9792,-39.0373 61.4971,-49.0435 68.4971,-49.031\" stroke=\"#000000\"/>\n",
       "<text fill=\"#000000\" font-family=\"Times,serif\" font-size=\"14.00\" text-anchor=\"middle\" x=\"58.6\" y=\"-61.8\">a</text>\n",
       "</g>\n",
       "<!-- 1 -->\n",
       "<g class=\"node\" id=\"node3\">\n",
       "<title>1</title>\n",
       "<ellipse cx=\"141.6\" cy=\"-22\" fill=\"none\" rx=\"18\" ry=\"18\" stroke=\"#000000\"/>\n",
       "<ellipse cx=\"141.6\" cy=\"-22\" fill=\"none\" rx=\"22\" ry=\"22\" stroke=\"#000000\"/>\n",
       "<text fill=\"#000000\" font-family=\"Times,serif\" font-size=\"14.00\" text-anchor=\"middle\" x=\"141.6\" y=\"-18.3\">1</text>\n",
       "</g>\n",
       "<!-- 0&#45;&gt;1 -->\n",
       "<g class=\"edge\" id=\"edge3\">\n",
       "<title>0-&gt;1</title>\n",
       "<path d=\"M76.6098,-22C86.1483,-22 98.1554,-22 109.2456,-22\" fill=\"none\" stroke=\"#000000\"/>\n",
       "<polygon fill=\"#000000\" points=\"109.487,-25.5001 119.487,-22 109.4869,-18.5001 109.487,-25.5001\" stroke=\"#000000\"/>\n",
       "<text fill=\"#000000\" font-family=\"Times,serif\" font-size=\"14.00\" text-anchor=\"middle\" x=\"98.1\" y=\"-25.8\">a</text>\n",
       "</g>\n",
       "<!-- 1&#45;&gt;1 -->\n",
       "<g class=\"edge\" id=\"edge4\">\n",
       "<title>1-&gt;1</title>\n",
       "<path d=\"M133.9173,-42.9908C132.9688,-53.0872 135.5297,-62 141.6,-62 145.4888,-62 147.9373,-58.3422 148.9456,-53.0587\" fill=\"none\" stroke=\"#000000\"/>\n",
       "<polygon fill=\"#000000\" points=\"152.446,-53.1023 149.2827,-42.9908 145.4499,-52.868 152.446,-53.1023\" stroke=\"#000000\"/>\n",
       "<text fill=\"#000000\" font-family=\"Times,serif\" font-size=\"14.00\" text-anchor=\"middle\" x=\"141.6\" y=\"-65.8\">a</text>\n",
       "</g>\n",
       "</g>\n",
       "</svg>"
      ],
      "text/plain": [
       "<IPython.core.display.SVG object>"
      ]
     },
     "metadata": {},
     "output_type": "display_data"
    }
   ],
   "source": [
    "r3 = str2regexp(\"a*aa*\")\n",
    "m3 = r1.toNFA()\n",
    "m3.renameStates()\n",
    "m3.display()"
   ]
  },
  {
   "cell_type": "code",
   "execution_count": 28,
   "metadata": {},
   "outputs": [
    {
     "data": {
      "image/svg+xml": [
       "<svg height=\"110pt\" viewBox=\"0.00 0.00 171.60 110.00\" width=\"172pt\" xmlns=\"http://www.w3.org/2000/svg\" xmlns:xlink=\"http://www.w3.org/1999/xlink\">\n",
       "<g class=\"graph\" id=\"graph0\" transform=\"scale(1 1) rotate(0) translate(4 106)\">\n",
       "<title>finite_state_machine</title>\n",
       "<polygon fill=\"#ffffff\" points=\"-4,4 -4,-106 167.6,-106 167.6,4 -4,4\" stroke=\"transparent\"/>\n",
       "<!-- dummy0 -->\n",
       "<g class=\"node\" id=\"node1\">\n",
       "<title>dummy0</title>\n",
       "<ellipse cx=\"1.8\" cy=\"-51\" fill=\"#000000\" rx=\"1.8\" ry=\"1.8\" stroke=\"#000000\"/>\n",
       "</g>\n",
       "<!-- 0 -->\n",
       "<g class=\"node\" id=\"node2\">\n",
       "<title>0</title>\n",
       "<ellipse cx=\"62.6\" cy=\"-51\" fill=\"none\" rx=\"18\" ry=\"18\" stroke=\"#000000\"/>\n",
       "<ellipse cx=\"62.6\" cy=\"-51\" fill=\"none\" rx=\"22\" ry=\"22\" stroke=\"#000000\"/>\n",
       "<text fill=\"#000000\" font-family=\"Times,serif\" font-size=\"14.00\" text-anchor=\"middle\" x=\"62.6\" y=\"-47.3\">0</text>\n",
       "</g>\n",
       "<!-- dummy0&#45;&gt;0 -->\n",
       "<g class=\"edge\" id=\"edge1\">\n",
       "<title>dummy0-&gt;0</title>\n",
       "<path d=\"M3.8229,-51C8.2086,-51 19.1055,-51 30.3421,-51\" fill=\"none\" stroke=\"#000000\"/>\n",
       "<polygon fill=\"#000000\" points=\"30.58,-54.5001 40.58,-51 30.5799,-47.5001 30.58,-54.5001\" stroke=\"#000000\"/>\n",
       "</g>\n",
       "<!-- 1 -->\n",
       "<g class=\"node\" id=\"node3\">\n",
       "<title>1</title>\n",
       "<ellipse cx=\"145.6\" cy=\"-83\" fill=\"none\" rx=\"18\" ry=\"18\" stroke=\"#000000\"/>\n",
       "<text fill=\"#000000\" font-family=\"Times,serif\" font-size=\"14.00\" text-anchor=\"middle\" x=\"145.6\" y=\"-79.3\">1</text>\n",
       "</g>\n",
       "<!-- 0&#45;&gt;1 -->\n",
       "<g class=\"edge\" id=\"edge2\">\n",
       "<title>0-&gt;1</title>\n",
       "<path d=\"M76.7788,-67.9445C83.7436,-74.9547 92.7527,-82.3 102.6,-86 107.3417,-87.7816 112.582,-88.4114 117.7259,-88.3738\" fill=\"none\" stroke=\"#000000\"/>\n",
       "<polygon fill=\"#000000\" points=\"118.286,-91.8392 127.9581,-87.5148 117.7003,-84.8637 118.286,-91.8392\" stroke=\"#000000\"/>\n",
       "<text fill=\"#000000\" font-family=\"Times,serif\" font-size=\"14.00\" text-anchor=\"middle\" x=\"106.1\" y=\"-90.8\">a</text>\n",
       "</g>\n",
       "<!-- 2 -->\n",
       "<g class=\"node\" id=\"node4\">\n",
       "<title>2</title>\n",
       "<ellipse cx=\"145.6\" cy=\"-18\" fill=\"none\" rx=\"18\" ry=\"18\" stroke=\"#000000\"/>\n",
       "<text fill=\"#000000\" font-family=\"Times,serif\" font-size=\"14.00\" text-anchor=\"middle\" x=\"145.6\" y=\"-14.3\">2</text>\n",
       "</g>\n",
       "<!-- 0&#45;&gt;2 -->\n",
       "<g class=\"edge\" id=\"edge3\">\n",
       "<title>0-&gt;2</title>\n",
       "<path d=\"M83.1169,-42.8427C94.0681,-38.4886 107.6647,-33.0827 119.3753,-28.4267\" fill=\"none\" stroke=\"#000000\"/>\n",
       "<polygon fill=\"#000000\" points=\"120.6699,-31.6785 128.6692,-24.7315 118.0836,-25.1738 120.6699,-31.6785\" stroke=\"#000000\"/>\n",
       "<text fill=\"#000000\" font-family=\"Times,serif\" font-size=\"14.00\" text-anchor=\"middle\" x=\"106.1\" y=\"-37.8\">a</text>\n",
       "</g>\n",
       "<!-- 1&#45;&gt;0 -->\n",
       "<g class=\"edge\" id=\"edge4\">\n",
       "<title>1-&gt;0</title>\n",
       "<path d=\"M129.2435,-75.3572C123.1308,-72.6 116.0961,-69.5433 109.6,-67 104.3829,-64.9574 98.7851,-62.9206 93.3362,-61.0183\" fill=\"none\" stroke=\"#000000\"/>\n",
       "<polygon fill=\"#000000\" points=\"94.3981,-57.6825 83.8036,-57.7672 92.1385,-64.3078 94.3981,-57.6825\" stroke=\"#000000\"/>\n",
       "<text fill=\"#000000\" font-family=\"Times,serif\" font-size=\"14.00\" text-anchor=\"middle\" x=\"106.1\" y=\"-70.8\">a</text>\n",
       "</g>\n",
       "<!-- 2&#45;&gt;0 -->\n",
       "<g class=\"edge\" id=\"edge5\">\n",
       "<title>2-&gt;0</title>\n",
       "<path d=\"M128.3498,-12.249C120.2845,-10.4908 110.6965,-9.7673 102.6,-13 95.5057,-15.8326 88.9496,-20.5881 83.2849,-25.7936\" fill=\"none\" stroke=\"#000000\"/>\n",
       "<polygon fill=\"#000000\" points=\"80.6756,-23.4549 76.1459,-33.0326 85.6597,-28.3701 80.6756,-23.4549\" stroke=\"#000000\"/>\n",
       "<text fill=\"#000000\" font-family=\"Times,serif\" font-size=\"14.00\" text-anchor=\"middle\" x=\"106.1\" y=\"-16.8\">a</text>\n",
       "</g>\n",
       "</g>\n",
       "</svg>"
      ],
      "text/plain": [
       "<IPython.core.display.SVG object>"
      ]
     },
     "metadata": {},
     "output_type": "display_data"
    }
   ],
   "source": [
    "m4 = NFA()\n",
    "\n",
    "nStates = 3\n",
    "initial = [0]\n",
    "final = [0]\n",
    "\n",
    "transitions = [(0,'a',1),(0,'a',2),(1,'a',0),(2,'a',0)]\n",
    "\n",
    "for i in range(0,nStates): m4.addState()\n",
    "for i in initial: m4.addInitial(i)\n",
    "for i in final: m4.addFinal(i)\n",
    "\n",
    "for (s1,x,s2) in transitions: m4.addTransition(s1,x,s2)\n",
    "m4.renameStates()\n",
    "m4.display()"
   ]
  }
 ],
 "metadata": {
  "kernelspec": {
   "display_name": "Python 2",
   "language": "python",
   "name": "python2"
  },
  "language_info": {
   "codemirror_mode": {
    "name": "ipython",
    "version": 2
   },
   "file_extension": ".py",
   "mimetype": "text/x-python",
   "name": "python",
   "nbconvert_exporter": "python",
   "pygments_lexer": "ipython2",
   "version": "2.7.13"
  }
 },
 "nbformat": 4,
 "nbformat_minor": 2
}
